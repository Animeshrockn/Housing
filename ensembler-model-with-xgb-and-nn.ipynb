{
 "cells": [
  {
   "cell_type": "code",
   "execution_count": 1,
   "id": "alleged-healthcare",
   "metadata": {
    "_cell_guid": "b1076dfc-b9ad-4769-8c92-a6c4dae69d19",
    "_uuid": "8f2839f25d086af736a60e9eeb907d3b93b6e0e5",
    "execution": {
     "iopub.execute_input": "2021-06-05T16:05:43.243824Z",
     "iopub.status.busy": "2021-06-05T16:05:43.241609Z",
     "iopub.status.idle": "2021-06-05T16:05:43.249502Z",
     "shell.execute_reply": "2021-06-05T16:05:43.248905Z",
     "shell.execute_reply.started": "2021-06-05T15:57:04.457123Z"
    },
    "papermill": {
     "duration": 0.040366,
     "end_time": "2021-06-05T16:05:43.249624",
     "exception": false,
     "start_time": "2021-06-05T16:05:43.209258",
     "status": "completed"
    },
    "tags": []
   },
   "outputs": [
    {
     "name": "stdout",
     "output_type": "stream",
     "text": [
      "/kaggle/input/house-prices-advanced-regression-techniques/sample_submission.csv\n",
      "/kaggle/input/house-prices-advanced-regression-techniques/data_description.txt\n",
      "/kaggle/input/house-prices-advanced-regression-techniques/train.csv\n",
      "/kaggle/input/house-prices-advanced-regression-techniques/test.csv\n"
     ]
    }
   ],
   "source": [
    "# This Python 3 environment comes with many helpful analytics libraries installed\n",
    "# It is defined by the kaggle/python Docker image: https://github.com/kaggle/docker-python\n",
    "# For example, here's several helpful packages to load\n",
    "\n",
    "import numpy as np # linear algebra\n",
    "import pandas as pd # data processing, CSV file I/O (e.g. pd.read_csv)\n",
    "\n",
    "# Input data files are available in the read-only \"../input/\" directory\n",
    "# For example, running this (by clicking run or pressing Shift+Enter) will list all files under the input directory\n",
    "\n",
    "import os\n",
    "for dirname, _, filenames in os.walk('/kaggle/input'):\n",
    "    for filename in filenames:\n",
    "        print(os.path.join(dirname, filename))\n",
    "\n",
    "# You can write up to 20GB to the current directory (/kaggle/working/) that gets preserved as output when you create a version using \"Save & Run All\" \n",
    "# You can also write temporary files to /kaggle/temp/, but they won't be saved outside of the current session"
   ]
  },
  {
   "cell_type": "code",
   "execution_count": 2,
   "id": "dimensional-window",
   "metadata": {
    "execution": {
     "iopub.execute_input": "2021-06-05T16:05:43.304428Z",
     "iopub.status.busy": "2021-06-05T16:05:43.303930Z",
     "iopub.status.idle": "2021-06-05T16:05:46.406995Z",
     "shell.execute_reply": "2021-06-05T16:05:46.406353Z",
     "shell.execute_reply.started": "2021-06-05T15:57:04.621704Z"
    },
    "papermill": {
     "duration": 3.132995,
     "end_time": "2021-06-05T16:05:46.407155",
     "exception": false,
     "start_time": "2021-06-05T16:05:43.274160",
     "status": "completed"
    },
    "tags": []
   },
   "outputs": [
    {
     "data": {
      "text/html": [
       "<style type='text/css'>\n",
       ".datatable table.frame { margin-bottom: 0; }\n",
       ".datatable table.frame thead { border-bottom: none; }\n",
       ".datatable table.frame tr.coltypes td {  color: #FFFFFF;  line-height: 6px;  padding: 0 0.5em;}\n",
       ".datatable .bool    { background: #DDDD99; }\n",
       ".datatable .object  { background: #565656; }\n",
       ".datatable .int     { background: #5D9E5D; }\n",
       ".datatable .float   { background: #4040CC; }\n",
       ".datatable .str     { background: #CC4040; }\n",
       ".datatable .row_index {  background: var(--jp-border-color3);  border-right: 1px solid var(--jp-border-color0);  color: var(--jp-ui-font-color3);  font-size: 9px;}\n",
       ".datatable .frame tr.coltypes .row_index {  background: var(--jp-border-color0);}\n",
       ".datatable th:nth-child(2) { padding-left: 12px; }\n",
       ".datatable .hellipsis {  color: var(--jp-cell-editor-border-color);}\n",
       ".datatable .vellipsis {  background: var(--jp-layout-color0);  color: var(--jp-cell-editor-border-color);}\n",
       ".datatable .na {  color: var(--jp-cell-editor-border-color);  font-size: 80%;}\n",
       ".datatable .footer { font-size: 9px; }\n",
       ".datatable .frame_dimensions {  background: var(--jp-border-color3);  border-top: 1px solid var(--jp-border-color0);  color: var(--jp-ui-font-color3);  display: inline-block;  opacity: 0.6;  padding: 1px 10px 1px 5px;}\n",
       "</style>\n"
      ],
      "text/plain": [
       "<IPython.core.display.HTML object>"
      ]
     },
     "metadata": {},
     "output_type": "display_data"
    },
    {
     "name": "stdout",
     "output_type": "stream",
     "text": [
      "['house-prices-advanced-regression-techniques']\n"
     ]
    }
   ],
   "source": [
    "import numpy as np \n",
    "import pandas as pd\n",
    "import matplotlib.pyplot as plt\n",
    "import seaborn as sns\n",
    "from xgboost import XGBRegressor\n",
    "from sklearn.model_selection import cross_val_score\n",
    "from sklearn.model_selection import KFold\n",
    "from numpy import absolute\n",
    "import warnings\n",
    "warnings.filterwarnings('ignore')\n",
    "\n",
    "import numpy as np  # linear algebra\n",
    "import pandas as pd  #\n",
    "from datetime import datetime\n",
    "\n",
    "from scipy.stats import skew  # for some statistics\n",
    "from scipy.special import boxcox1p\n",
    "from scipy.stats import boxcox_normmax\n",
    "\n",
    "from sklearn.linear_model import ElasticNetCV, LassoCV, RidgeCV\n",
    "from sklearn.ensemble import GradientBoostingRegressor\n",
    "from sklearn.svm import SVR\n",
    "from sklearn.pipeline import make_pipeline\n",
    "from sklearn.preprocessing import RobustScaler\n",
    "from sklearn.model_selection import KFold, cross_val_score\n",
    "from sklearn.metrics import mean_squared_error\n",
    "\n",
    "from mlxtend.regressor import StackingCVRegressor\n",
    "\n",
    "from xgboost import XGBRegressor\n",
    "from lightgbm import LGBMRegressor\n",
    "\n",
    "import os\n",
    "\n",
    "\n",
    "print(os.listdir(\"../input\"))"
   ]
  },
  {
   "cell_type": "markdown",
   "id": "monthly-president",
   "metadata": {
    "papermill": {
     "duration": 0.023939,
     "end_time": "2021-06-05T16:05:46.455866",
     "exception": false,
     "start_time": "2021-06-05T16:05:46.431927",
     "status": "completed"
    },
    "tags": []
   },
   "source": [
    "Data Analysis"
   ]
  },
  {
   "cell_type": "code",
   "execution_count": 3,
   "id": "inside-bleeding",
   "metadata": {
    "execution": {
     "iopub.execute_input": "2021-06-05T16:05:46.510151Z",
     "iopub.status.busy": "2021-06-05T16:05:46.509562Z",
     "iopub.status.idle": "2021-06-05T16:05:46.566470Z",
     "shell.execute_reply": "2021-06-05T16:05:46.566043Z",
     "shell.execute_reply.started": "2021-06-05T15:57:04.778830Z"
    },
    "papermill": {
     "duration": 0.08654,
     "end_time": "2021-06-05T16:05:46.566573",
     "exception": false,
     "start_time": "2021-06-05T16:05:46.480033",
     "status": "completed"
    },
    "tags": []
   },
   "outputs": [
    {
     "data": {
      "text/html": [
       "<div>\n",
       "<style scoped>\n",
       "    .dataframe tbody tr th:only-of-type {\n",
       "        vertical-align: middle;\n",
       "    }\n",
       "\n",
       "    .dataframe tbody tr th {\n",
       "        vertical-align: top;\n",
       "    }\n",
       "\n",
       "    .dataframe thead th {\n",
       "        text-align: right;\n",
       "    }\n",
       "</style>\n",
       "<table border=\"1\" class=\"dataframe\">\n",
       "  <thead>\n",
       "    <tr style=\"text-align: right;\">\n",
       "      <th></th>\n",
       "      <th>Id</th>\n",
       "      <th>MSSubClass</th>\n",
       "      <th>MSZoning</th>\n",
       "      <th>LotFrontage</th>\n",
       "      <th>LotArea</th>\n",
       "      <th>Street</th>\n",
       "      <th>Alley</th>\n",
       "      <th>LotShape</th>\n",
       "      <th>LandContour</th>\n",
       "      <th>Utilities</th>\n",
       "      <th>...</th>\n",
       "      <th>PoolArea</th>\n",
       "      <th>PoolQC</th>\n",
       "      <th>Fence</th>\n",
       "      <th>MiscFeature</th>\n",
       "      <th>MiscVal</th>\n",
       "      <th>MoSold</th>\n",
       "      <th>YrSold</th>\n",
       "      <th>SaleType</th>\n",
       "      <th>SaleCondition</th>\n",
       "      <th>SalePrice</th>\n",
       "    </tr>\n",
       "  </thead>\n",
       "  <tbody>\n",
       "    <tr>\n",
       "      <th>0</th>\n",
       "      <td>1</td>\n",
       "      <td>60</td>\n",
       "      <td>RL</td>\n",
       "      <td>65.0</td>\n",
       "      <td>8450</td>\n",
       "      <td>Pave</td>\n",
       "      <td>NaN</td>\n",
       "      <td>Reg</td>\n",
       "      <td>Lvl</td>\n",
       "      <td>AllPub</td>\n",
       "      <td>...</td>\n",
       "      <td>0</td>\n",
       "      <td>NaN</td>\n",
       "      <td>NaN</td>\n",
       "      <td>NaN</td>\n",
       "      <td>0</td>\n",
       "      <td>2</td>\n",
       "      <td>2008</td>\n",
       "      <td>WD</td>\n",
       "      <td>Normal</td>\n",
       "      <td>208500</td>\n",
       "    </tr>\n",
       "    <tr>\n",
       "      <th>1</th>\n",
       "      <td>2</td>\n",
       "      <td>20</td>\n",
       "      <td>RL</td>\n",
       "      <td>80.0</td>\n",
       "      <td>9600</td>\n",
       "      <td>Pave</td>\n",
       "      <td>NaN</td>\n",
       "      <td>Reg</td>\n",
       "      <td>Lvl</td>\n",
       "      <td>AllPub</td>\n",
       "      <td>...</td>\n",
       "      <td>0</td>\n",
       "      <td>NaN</td>\n",
       "      <td>NaN</td>\n",
       "      <td>NaN</td>\n",
       "      <td>0</td>\n",
       "      <td>5</td>\n",
       "      <td>2007</td>\n",
       "      <td>WD</td>\n",
       "      <td>Normal</td>\n",
       "      <td>181500</td>\n",
       "    </tr>\n",
       "    <tr>\n",
       "      <th>2</th>\n",
       "      <td>3</td>\n",
       "      <td>60</td>\n",
       "      <td>RL</td>\n",
       "      <td>68.0</td>\n",
       "      <td>11250</td>\n",
       "      <td>Pave</td>\n",
       "      <td>NaN</td>\n",
       "      <td>IR1</td>\n",
       "      <td>Lvl</td>\n",
       "      <td>AllPub</td>\n",
       "      <td>...</td>\n",
       "      <td>0</td>\n",
       "      <td>NaN</td>\n",
       "      <td>NaN</td>\n",
       "      <td>NaN</td>\n",
       "      <td>0</td>\n",
       "      <td>9</td>\n",
       "      <td>2008</td>\n",
       "      <td>WD</td>\n",
       "      <td>Normal</td>\n",
       "      <td>223500</td>\n",
       "    </tr>\n",
       "    <tr>\n",
       "      <th>3</th>\n",
       "      <td>4</td>\n",
       "      <td>70</td>\n",
       "      <td>RL</td>\n",
       "      <td>60.0</td>\n",
       "      <td>9550</td>\n",
       "      <td>Pave</td>\n",
       "      <td>NaN</td>\n",
       "      <td>IR1</td>\n",
       "      <td>Lvl</td>\n",
       "      <td>AllPub</td>\n",
       "      <td>...</td>\n",
       "      <td>0</td>\n",
       "      <td>NaN</td>\n",
       "      <td>NaN</td>\n",
       "      <td>NaN</td>\n",
       "      <td>0</td>\n",
       "      <td>2</td>\n",
       "      <td>2006</td>\n",
       "      <td>WD</td>\n",
       "      <td>Abnorml</td>\n",
       "      <td>140000</td>\n",
       "    </tr>\n",
       "    <tr>\n",
       "      <th>4</th>\n",
       "      <td>5</td>\n",
       "      <td>60</td>\n",
       "      <td>RL</td>\n",
       "      <td>84.0</td>\n",
       "      <td>14260</td>\n",
       "      <td>Pave</td>\n",
       "      <td>NaN</td>\n",
       "      <td>IR1</td>\n",
       "      <td>Lvl</td>\n",
       "      <td>AllPub</td>\n",
       "      <td>...</td>\n",
       "      <td>0</td>\n",
       "      <td>NaN</td>\n",
       "      <td>NaN</td>\n",
       "      <td>NaN</td>\n",
       "      <td>0</td>\n",
       "      <td>12</td>\n",
       "      <td>2008</td>\n",
       "      <td>WD</td>\n",
       "      <td>Normal</td>\n",
       "      <td>250000</td>\n",
       "    </tr>\n",
       "  </tbody>\n",
       "</table>\n",
       "<p>5 rows × 81 columns</p>\n",
       "</div>"
      ],
      "text/plain": [
       "   Id  MSSubClass MSZoning  LotFrontage  LotArea Street Alley LotShape  \\\n",
       "0   1          60       RL         65.0     8450   Pave   NaN      Reg   \n",
       "1   2          20       RL         80.0     9600   Pave   NaN      Reg   \n",
       "2   3          60       RL         68.0    11250   Pave   NaN      IR1   \n",
       "3   4          70       RL         60.0     9550   Pave   NaN      IR1   \n",
       "4   5          60       RL         84.0    14260   Pave   NaN      IR1   \n",
       "\n",
       "  LandContour Utilities  ... PoolArea PoolQC Fence MiscFeature MiscVal MoSold  \\\n",
       "0         Lvl    AllPub  ...        0    NaN   NaN         NaN       0      2   \n",
       "1         Lvl    AllPub  ...        0    NaN   NaN         NaN       0      5   \n",
       "2         Lvl    AllPub  ...        0    NaN   NaN         NaN       0      9   \n",
       "3         Lvl    AllPub  ...        0    NaN   NaN         NaN       0      2   \n",
       "4         Lvl    AllPub  ...        0    NaN   NaN         NaN       0     12   \n",
       "\n",
       "  YrSold  SaleType  SaleCondition  SalePrice  \n",
       "0   2008        WD         Normal     208500  \n",
       "1   2007        WD         Normal     181500  \n",
       "2   2008        WD         Normal     223500  \n",
       "3   2006        WD        Abnorml     140000  \n",
       "4   2008        WD         Normal     250000  \n",
       "\n",
       "[5 rows x 81 columns]"
      ]
     },
     "execution_count": 3,
     "metadata": {},
     "output_type": "execute_result"
    }
   ],
   "source": [
    "# Training Data\n",
    "\n",
    "train = pd.read_csv(\"../input/house-prices-advanced-regression-techniques/train.csv\")\n",
    "train.head()"
   ]
  },
  {
   "cell_type": "code",
   "execution_count": 4,
   "id": "nearby-boating",
   "metadata": {
    "execution": {
     "iopub.execute_input": "2021-06-05T16:05:46.621945Z",
     "iopub.status.busy": "2021-06-05T16:05:46.621409Z",
     "iopub.status.idle": "2021-06-05T16:05:46.667216Z",
     "shell.execute_reply": "2021-06-05T16:05:46.666501Z",
     "shell.execute_reply.started": "2021-06-05T15:57:04.934983Z"
    },
    "papermill": {
     "duration": 0.076029,
     "end_time": "2021-06-05T16:05:46.667320",
     "exception": false,
     "start_time": "2021-06-05T16:05:46.591291",
     "status": "completed"
    },
    "tags": []
   },
   "outputs": [
    {
     "data": {
      "text/html": [
       "<div>\n",
       "<style scoped>\n",
       "    .dataframe tbody tr th:only-of-type {\n",
       "        vertical-align: middle;\n",
       "    }\n",
       "\n",
       "    .dataframe tbody tr th {\n",
       "        vertical-align: top;\n",
       "    }\n",
       "\n",
       "    .dataframe thead th {\n",
       "        text-align: right;\n",
       "    }\n",
       "</style>\n",
       "<table border=\"1\" class=\"dataframe\">\n",
       "  <thead>\n",
       "    <tr style=\"text-align: right;\">\n",
       "      <th></th>\n",
       "      <th>Id</th>\n",
       "      <th>MSSubClass</th>\n",
       "      <th>MSZoning</th>\n",
       "      <th>LotFrontage</th>\n",
       "      <th>LotArea</th>\n",
       "      <th>Street</th>\n",
       "      <th>Alley</th>\n",
       "      <th>LotShape</th>\n",
       "      <th>LandContour</th>\n",
       "      <th>Utilities</th>\n",
       "      <th>...</th>\n",
       "      <th>ScreenPorch</th>\n",
       "      <th>PoolArea</th>\n",
       "      <th>PoolQC</th>\n",
       "      <th>Fence</th>\n",
       "      <th>MiscFeature</th>\n",
       "      <th>MiscVal</th>\n",
       "      <th>MoSold</th>\n",
       "      <th>YrSold</th>\n",
       "      <th>SaleType</th>\n",
       "      <th>SaleCondition</th>\n",
       "    </tr>\n",
       "  </thead>\n",
       "  <tbody>\n",
       "    <tr>\n",
       "      <th>0</th>\n",
       "      <td>1461</td>\n",
       "      <td>20</td>\n",
       "      <td>RH</td>\n",
       "      <td>80.0</td>\n",
       "      <td>11622</td>\n",
       "      <td>Pave</td>\n",
       "      <td>NaN</td>\n",
       "      <td>Reg</td>\n",
       "      <td>Lvl</td>\n",
       "      <td>AllPub</td>\n",
       "      <td>...</td>\n",
       "      <td>120</td>\n",
       "      <td>0</td>\n",
       "      <td>NaN</td>\n",
       "      <td>MnPrv</td>\n",
       "      <td>NaN</td>\n",
       "      <td>0</td>\n",
       "      <td>6</td>\n",
       "      <td>2010</td>\n",
       "      <td>WD</td>\n",
       "      <td>Normal</td>\n",
       "    </tr>\n",
       "    <tr>\n",
       "      <th>1</th>\n",
       "      <td>1462</td>\n",
       "      <td>20</td>\n",
       "      <td>RL</td>\n",
       "      <td>81.0</td>\n",
       "      <td>14267</td>\n",
       "      <td>Pave</td>\n",
       "      <td>NaN</td>\n",
       "      <td>IR1</td>\n",
       "      <td>Lvl</td>\n",
       "      <td>AllPub</td>\n",
       "      <td>...</td>\n",
       "      <td>0</td>\n",
       "      <td>0</td>\n",
       "      <td>NaN</td>\n",
       "      <td>NaN</td>\n",
       "      <td>Gar2</td>\n",
       "      <td>12500</td>\n",
       "      <td>6</td>\n",
       "      <td>2010</td>\n",
       "      <td>WD</td>\n",
       "      <td>Normal</td>\n",
       "    </tr>\n",
       "    <tr>\n",
       "      <th>2</th>\n",
       "      <td>1463</td>\n",
       "      <td>60</td>\n",
       "      <td>RL</td>\n",
       "      <td>74.0</td>\n",
       "      <td>13830</td>\n",
       "      <td>Pave</td>\n",
       "      <td>NaN</td>\n",
       "      <td>IR1</td>\n",
       "      <td>Lvl</td>\n",
       "      <td>AllPub</td>\n",
       "      <td>...</td>\n",
       "      <td>0</td>\n",
       "      <td>0</td>\n",
       "      <td>NaN</td>\n",
       "      <td>MnPrv</td>\n",
       "      <td>NaN</td>\n",
       "      <td>0</td>\n",
       "      <td>3</td>\n",
       "      <td>2010</td>\n",
       "      <td>WD</td>\n",
       "      <td>Normal</td>\n",
       "    </tr>\n",
       "    <tr>\n",
       "      <th>3</th>\n",
       "      <td>1464</td>\n",
       "      <td>60</td>\n",
       "      <td>RL</td>\n",
       "      <td>78.0</td>\n",
       "      <td>9978</td>\n",
       "      <td>Pave</td>\n",
       "      <td>NaN</td>\n",
       "      <td>IR1</td>\n",
       "      <td>Lvl</td>\n",
       "      <td>AllPub</td>\n",
       "      <td>...</td>\n",
       "      <td>0</td>\n",
       "      <td>0</td>\n",
       "      <td>NaN</td>\n",
       "      <td>NaN</td>\n",
       "      <td>NaN</td>\n",
       "      <td>0</td>\n",
       "      <td>6</td>\n",
       "      <td>2010</td>\n",
       "      <td>WD</td>\n",
       "      <td>Normal</td>\n",
       "    </tr>\n",
       "    <tr>\n",
       "      <th>4</th>\n",
       "      <td>1465</td>\n",
       "      <td>120</td>\n",
       "      <td>RL</td>\n",
       "      <td>43.0</td>\n",
       "      <td>5005</td>\n",
       "      <td>Pave</td>\n",
       "      <td>NaN</td>\n",
       "      <td>IR1</td>\n",
       "      <td>HLS</td>\n",
       "      <td>AllPub</td>\n",
       "      <td>...</td>\n",
       "      <td>144</td>\n",
       "      <td>0</td>\n",
       "      <td>NaN</td>\n",
       "      <td>NaN</td>\n",
       "      <td>NaN</td>\n",
       "      <td>0</td>\n",
       "      <td>1</td>\n",
       "      <td>2010</td>\n",
       "      <td>WD</td>\n",
       "      <td>Normal</td>\n",
       "    </tr>\n",
       "  </tbody>\n",
       "</table>\n",
       "<p>5 rows × 80 columns</p>\n",
       "</div>"
      ],
      "text/plain": [
       "     Id  MSSubClass MSZoning  LotFrontage  LotArea Street Alley LotShape  \\\n",
       "0  1461          20       RH         80.0    11622   Pave   NaN      Reg   \n",
       "1  1462          20       RL         81.0    14267   Pave   NaN      IR1   \n",
       "2  1463          60       RL         74.0    13830   Pave   NaN      IR1   \n",
       "3  1464          60       RL         78.0     9978   Pave   NaN      IR1   \n",
       "4  1465         120       RL         43.0     5005   Pave   NaN      IR1   \n",
       "\n",
       "  LandContour Utilities  ... ScreenPorch PoolArea PoolQC  Fence MiscFeature  \\\n",
       "0         Lvl    AllPub  ...         120        0    NaN  MnPrv         NaN   \n",
       "1         Lvl    AllPub  ...           0        0    NaN    NaN        Gar2   \n",
       "2         Lvl    AllPub  ...           0        0    NaN  MnPrv         NaN   \n",
       "3         Lvl    AllPub  ...           0        0    NaN    NaN         NaN   \n",
       "4         HLS    AllPub  ...         144        0    NaN    NaN         NaN   \n",
       "\n",
       "  MiscVal MoSold  YrSold  SaleType  SaleCondition  \n",
       "0       0      6    2010        WD         Normal  \n",
       "1   12500      6    2010        WD         Normal  \n",
       "2       0      3    2010        WD         Normal  \n",
       "3       0      6    2010        WD         Normal  \n",
       "4       0      1    2010        WD         Normal  \n",
       "\n",
       "[5 rows x 80 columns]"
      ]
     },
     "execution_count": 4,
     "metadata": {},
     "output_type": "execute_result"
    }
   ],
   "source": [
    "# Testing Data\n",
    "\n",
    "test = pd.read_csv(\"../input/house-prices-advanced-regression-techniques/test.csv\")\n",
    "test.head()"
   ]
  },
  {
   "cell_type": "code",
   "execution_count": 5,
   "id": "wrong-catholic",
   "metadata": {
    "execution": {
     "iopub.execute_input": "2021-06-05T16:05:46.725259Z",
     "iopub.status.busy": "2021-06-05T16:05:46.724467Z",
     "iopub.status.idle": "2021-06-05T16:05:46.729640Z",
     "shell.execute_reply": "2021-06-05T16:05:46.729245Z",
     "shell.execute_reply.started": "2021-06-05T15:57:04.982637Z"
    },
    "papermill": {
     "duration": 0.036437,
     "end_time": "2021-06-05T16:05:46.729744",
     "exception": false,
     "start_time": "2021-06-05T16:05:46.693307",
     "status": "completed"
    },
    "tags": []
   },
   "outputs": [],
   "source": [
    "# Saving ID on a new variable and Dropping ID column\n",
    "\n",
    "train_ID = train['Id']\n",
    "test_ID = test['Id']\n",
    "train.drop(['Id'], axis=1, inplace=True)\n",
    "test.drop(['Id'], axis=1, inplace=True)"
   ]
  },
  {
   "cell_type": "code",
   "execution_count": 6,
   "id": "approximate-straight",
   "metadata": {
    "execution": {
     "iopub.execute_input": "2021-06-05T16:05:46.782728Z",
     "iopub.status.busy": "2021-06-05T16:05:46.782044Z",
     "iopub.status.idle": "2021-06-05T16:05:46.784205Z",
     "shell.execute_reply": "2021-06-05T16:05:46.784558Z",
     "shell.execute_reply.started": "2021-06-05T15:57:04.995958Z"
    },
    "papermill": {
     "duration": 0.030098,
     "end_time": "2021-06-05T16:05:46.784674",
     "exception": false,
     "start_time": "2021-06-05T16:05:46.754576",
     "status": "completed"
    },
    "tags": []
   },
   "outputs": [],
   "source": [
    "# Plotting to find outliers \n",
    "# for items in train.columns:\n",
    "#     if len(train[items].unique()) < 20:\n",
    "#         sns.catplot(x=train[items], y=train['SalePrice'], data=train)\n",
    "#         plt.show()\n",
    "#     else:\n",
    "#         sns.scatterplot(x=train[items],y=train['SalePrice'])\n",
    "#         plt.show()"
   ]
  },
  {
   "cell_type": "code",
   "execution_count": 7,
   "id": "explicit-schema",
   "metadata": {
    "execution": {
     "iopub.execute_input": "2021-06-05T16:05:46.839586Z",
     "iopub.status.busy": "2021-06-05T16:05:46.838780Z",
     "iopub.status.idle": "2021-06-05T16:05:46.844487Z",
     "shell.execute_reply": "2021-06-05T16:05:46.844005Z",
     "shell.execute_reply.started": "2021-06-05T15:57:05.003805Z"
    },
    "papermill": {
     "duration": 0.034747,
     "end_time": "2021-06-05T16:05:46.844584",
     "exception": false,
     "start_time": "2021-06-05T16:05:46.809837",
     "status": "completed"
    },
    "tags": []
   },
   "outputs": [
    {
     "name": "stdout",
     "output_type": "stream",
     "text": [
      "(1458, 80)\n"
     ]
    }
   ],
   "source": [
    "# Removing Outlier\n",
    "train = train[train.GrLivArea < 4500]\n",
    "train.reset_index(drop=True, inplace=True)\n",
    "print(train.shape)"
   ]
  },
  {
   "cell_type": "markdown",
   "id": "destroyed-shelf",
   "metadata": {
    "papermill": {
     "duration": 0.025279,
     "end_time": "2021-06-05T16:05:46.895028",
     "exception": false,
     "start_time": "2021-06-05T16:05:46.869749",
     "status": "completed"
    },
    "tags": []
   },
   "source": [
    "Visualizing output data from train set"
   ]
  },
  {
   "cell_type": "code",
   "execution_count": 8,
   "id": "worse-percentage",
   "metadata": {
    "execution": {
     "iopub.execute_input": "2021-06-05T16:05:46.949238Z",
     "iopub.status.busy": "2021-06-05T16:05:46.948681Z",
     "iopub.status.idle": "2021-06-05T16:05:47.314281Z",
     "shell.execute_reply": "2021-06-05T16:05:47.313009Z",
     "shell.execute_reply.started": "2021-06-05T15:57:05.017296Z"
    },
    "papermill": {
     "duration": 0.393756,
     "end_time": "2021-06-05T16:05:47.314483",
     "exception": false,
     "start_time": "2021-06-05T16:05:46.920727",
     "status": "completed"
    },
    "tags": []
   },
   "outputs": [
    {
     "data": {
      "text/plain": [
       "<AxesSubplot:>"
      ]
     },
     "execution_count": 8,
     "metadata": {},
     "output_type": "execute_result"
    },
    {
     "data": {
      "image/png": "[encoded data removed]",
      "text/plain": [
       "<Figure size 432x288 with 1 Axes>"
      ]
     },
     "metadata": {
      "needs_background": "light"
     },
     "output_type": "display_data"
    }
   ],
   "source": [
    "# Plotting output data for Visualization\n",
    "train['SalePrice'].hist(bins = 40)"
   ]
  },
  {
   "cell_type": "markdown",
   "id": "broke-index",
   "metadata": {
    "papermill": {
     "duration": 0.042665,
     "end_time": "2021-06-05T16:05:47.397385",
     "exception": false,
     "start_time": "2021-06-05T16:05:47.354720",
     "status": "completed"
    },
    "tags": []
   },
   "source": [
    "Data is skewed, we will use log1p to remove the skewness in data"
   ]
  },
  {
   "cell_type": "code",
   "execution_count": 9,
   "id": "structural-first",
   "metadata": {
    "execution": {
     "iopub.execute_input": "2021-06-05T16:05:47.489134Z",
     "iopub.status.busy": "2021-06-05T16:05:47.488365Z",
     "iopub.status.idle": "2021-06-05T16:05:47.742687Z",
     "shell.execute_reply": "2021-06-05T16:05:47.743103Z",
     "shell.execute_reply.started": "2021-06-05T15:57:05.223043Z"
    },
    "papermill": {
     "duration": 0.303265,
     "end_time": "2021-06-05T16:05:47.743252",
     "exception": false,
     "start_time": "2021-06-05T16:05:47.439987",
     "status": "completed"
    },
    "tags": []
   },
   "outputs": [
    {
     "data": {
      "text/plain": [
       "<AxesSubplot:>"
      ]
     },
     "execution_count": 9,
     "metadata": {},
     "output_type": "execute_result"
    },
    {
     "data": {
      "image/png": "[encoded data removed]",
      "text/plain": [
       "<Figure size 432x288 with 1 Axes>"
      ]
     },
     "metadata": {
      "needs_background": "light"
     },
     "output_type": "display_data"
    }
   ],
   "source": [
    "# Adjusting for Skewness\n",
    "# train[\"SalePrice\"] = np.log1p(train[\"SalePrice\"])\n",
    "train[\"SalePrice\"] = train[\"SalePrice\"]\n",
    "y_train = train['SalePrice'].reset_index(drop=True)\n",
    "\n",
    "train['SalePrice'].hist(bins = 40)"
   ]
  },
  {
   "cell_type": "code",
   "execution_count": 10,
   "id": "virtual-arthritis",
   "metadata": {
    "execution": {
     "iopub.execute_input": "2021-06-05T16:05:47.806107Z",
     "iopub.status.busy": "2021-06-05T16:05:47.805313Z",
     "iopub.status.idle": "2021-06-05T16:05:47.820156Z",
     "shell.execute_reply": "2021-06-05T16:05:47.820551Z",
     "shell.execute_reply.started": "2021-06-05T15:57:05.425517Z"
    },
    "papermill": {
     "duration": 0.050139,
     "end_time": "2021-06-05T16:05:47.820664",
     "exception": false,
     "start_time": "2021-06-05T16:05:47.770525",
     "status": "completed"
    },
    "tags": []
   },
   "outputs": [],
   "source": [
    "# Concat Testing part of both Train and Test and split SalePrice from Train data for Training\n",
    "train_data = train.drop(['SalePrice'], axis=1)\n",
    "total_data = pd.concat([train_data, test]).reset_index(drop=True)"
   ]
  },
  {
   "cell_type": "code",
   "execution_count": 11,
   "id": "communist-journey",
   "metadata": {
    "execution": {
     "iopub.execute_input": "2021-06-05T16:05:47.877501Z",
     "iopub.status.busy": "2021-06-05T16:05:47.877014Z",
     "iopub.status.idle": "2021-06-05T16:05:47.882158Z",
     "shell.execute_reply": "2021-06-05T16:05:47.882527Z",
     "shell.execute_reply.started": "2021-06-05T15:57:05.453788Z"
    },
    "papermill": {
     "duration": 0.035308,
     "end_time": "2021-06-05T16:05:47.882643",
     "exception": false,
     "start_time": "2021-06-05T16:05:47.847335",
     "status": "completed"
    },
    "tags": []
   },
   "outputs": [
    {
     "data": {
      "text/plain": [
       "(2917, 79)"
      ]
     },
     "execution_count": 11,
     "metadata": {},
     "output_type": "execute_result"
    }
   ],
   "source": [
    "# Total data is full data to be used for EDA\n",
    "total_data.shape"
   ]
  },
  {
   "cell_type": "code",
   "execution_count": 12,
   "id": "grateful-validity",
   "metadata": {
    "execution": {
     "iopub.execute_input": "2021-06-05T16:05:47.951786Z",
     "iopub.status.busy": "2021-06-05T16:05:47.950928Z",
     "iopub.status.idle": "2021-06-05T16:05:47.956166Z",
     "shell.execute_reply": "2021-06-05T16:05:47.956530Z",
     "shell.execute_reply.started": "2021-06-05T15:57:05.462481Z"
    },
    "papermill": {
     "duration": 0.04706,
     "end_time": "2021-06-05T16:05:47.956645",
     "exception": false,
     "start_time": "2021-06-05T16:05:47.909585",
     "status": "completed"
    },
    "tags": []
   },
   "outputs": [
    {
     "name": "stdout",
     "output_type": "stream",
     "text": [
      "columns containing missing values = 34\n"
     ]
    }
   ],
   "source": [
    "print('columns containing missing values =',total_data.isnull().any().sum())"
   ]
  },
  {
   "cell_type": "code",
   "execution_count": 13,
   "id": "worldwide-sheriff",
   "metadata": {
    "execution": {
     "iopub.execute_input": "2021-06-05T16:05:48.027228Z",
     "iopub.status.busy": "2021-06-05T16:05:48.026455Z",
     "iopub.status.idle": "2021-06-05T16:05:48.404718Z",
     "shell.execute_reply": "2021-06-05T16:05:48.405165Z",
     "shell.execute_reply.started": "2021-06-05T15:57:05.494402Z"
    },
    "papermill": {
     "duration": 0.421179,
     "end_time": "2021-06-05T16:05:48.405308",
     "exception": false,
     "start_time": "2021-06-05T16:05:47.984129",
     "status": "completed"
    },
    "tags": []
   },
   "outputs": [
    {
     "name": "stdout",
     "output_type": "stream",
     "text": [
      "                 0\n",
      "PoolQC        2908\n",
      "MiscFeature   2812\n",
      "Alley         2719\n",
      "Fence         2346\n",
      "FireplaceQu   1420\n",
      "LotFrontage    486\n",
      "GarageCond     159\n",
      "GarageQual     159\n",
      "GarageYrBlt    159\n",
      "GarageFinish   159\n",
      "GarageType     157\n",
      "BsmtCond        82\n",
      "BsmtExposure    82\n",
      "BsmtQual        81\n",
      "BsmtFinType2    80\n",
      "BsmtFinType1    79\n",
      "MasVnrType      24\n",
      "MasVnrArea      23\n",
      "MSZoning         4\n",
      "BsmtHalfBath     2\n",
      "Utilities        2\n",
      "Functional       2\n",
      "BsmtFullBath     2\n",
      "BsmtFinSF2       1\n",
      "BsmtFinSF1       1\n",
      "Exterior2nd      1\n",
      "BsmtUnfSF        1\n",
      "TotalBsmtSF      1\n",
      "Exterior1st      1\n",
      "SaleType         1\n",
      "Electrical       1\n",
      "KitchenQual      1\n",
      "GarageArea       1\n",
      "GarageCars       1\n"
     ]
    },
    {
     "data": {
      "image/png": "[encoded data removed]",
      "text/plain": [
       "<Figure size 1440x720 with 1 Axes>"
      ]
     },
     "metadata": {
      "needs_background": "light"
     },
     "output_type": "display_data"
    }
   ],
   "source": [
    "# Finding missing values to plot a Graph\n",
    "missing_counts = pd.DataFrame(total_data.isnull().sum().sort_values(ascending=False))\n",
    "missing_columns = missing_counts[missing_counts.iloc[:,0]>0]\n",
    "# Plotting Missing Values\n",
    "plt.figure(figsize=(20,10))\n",
    "missing_columns = missing_counts[missing_counts.iloc[:,0]>0]\n",
    "sns.barplot(x=missing_columns.index,y=missing_columns.iloc[:,0])\n",
    "plt.xticks(rotation=90)\n",
    "print(missing_columns)\n",
    "plt.show()"
   ]
  },
  {
   "cell_type": "code",
   "execution_count": 14,
   "id": "possible-latvia",
   "metadata": {
    "execution": {
     "iopub.execute_input": "2021-06-05T16:05:48.470238Z",
     "iopub.status.busy": "2021-06-05T16:05:48.469477Z",
     "iopub.status.idle": "2021-06-05T16:05:48.486396Z",
     "shell.execute_reply": "2021-06-05T16:05:48.486765Z",
     "shell.execute_reply.started": "2021-06-05T15:57:06.149181Z"
    },
    "papermill": {
     "duration": 0.05261,
     "end_time": "2021-06-05T16:05:48.486902",
     "exception": false,
     "start_time": "2021-06-05T16:05:48.434292",
     "status": "completed"
    },
    "tags": []
   },
   "outputs": [],
   "source": [
    "# Some of the non-numeric predictors are stored as numbers; we convert them into strings \n",
    "total_data['MSSubClass'] = total_data['MSSubClass'].apply(str)\n",
    "total_data['YrSold'] = total_data['YrSold'].astype(str)\n",
    "total_data['MoSold'] = total_data['MoSold'].astype(str)\n",
    "\n",
    "# Fixing columns : filling Null values with suitable values in columns\n",
    "total_data['Functional'] = total_data['Functional'].fillna('Typ')\n",
    "total_data['Electrical'] = total_data['Electrical'].fillna(\"SBrkr\")\n",
    "total_data['KitchenQual'] = total_data['KitchenQual'].fillna(\"TA\")\n",
    "total_data['Exterior1st'] = total_data['Exterior1st'].fillna(total_data['Exterior1st'].mode()[0])\n",
    "total_data['Exterior2nd'] = total_data['Exterior2nd'].fillna(total_data['Exterior2nd'].mode()[0])\n",
    "total_data['SaleType'] = total_data['SaleType'].fillna(total_data['SaleType'].mode()[0])\n",
    "total_data[\"PoolQC\"] = total_data[\"PoolQC\"].fillna(\"None\")"
   ]
  },
  {
   "cell_type": "code",
   "execution_count": 15,
   "id": "clear-junior",
   "metadata": {
    "execution": {
     "iopub.execute_input": "2021-06-05T16:05:48.548043Z",
     "iopub.status.busy": "2021-06-05T16:05:48.547382Z",
     "iopub.status.idle": "2021-06-05T16:05:48.553272Z",
     "shell.execute_reply": "2021-06-05T16:05:48.552886Z",
     "shell.execute_reply.started": "2021-06-05T15:57:06.174730Z"
    },
    "papermill": {
     "duration": 0.037972,
     "end_time": "2021-06-05T16:05:48.553372",
     "exception": false,
     "start_time": "2021-06-05T16:05:48.515400",
     "status": "completed"
    },
    "tags": []
   },
   "outputs": [],
   "source": [
    "# Filling columns with Mode and Median values\n",
    "total_data[\"LotFrontage\"].fillna(total_data[\"LotFrontage\"].median(),inplace=True)\n",
    "total_data[\"MSZoning\"].fillna(total_data[\"MSZoning\"].mode(),inplace=True)"
   ]
  },
  {
   "cell_type": "code",
   "execution_count": 16,
   "id": "manufactured-absence",
   "metadata": {
    "execution": {
     "iopub.execute_input": "2021-06-05T16:05:48.622463Z",
     "iopub.status.busy": "2021-06-05T16:05:48.618009Z",
     "iopub.status.idle": "2021-06-05T16:05:48.624788Z",
     "shell.execute_reply": "2021-06-05T16:05:48.624397Z",
     "shell.execute_reply.started": "2021-06-05T15:57:06.187649Z"
    },
    "papermill": {
     "duration": 0.042898,
     "end_time": "2021-06-05T16:05:48.624903",
     "exception": false,
     "start_time": "2021-06-05T16:05:48.582005",
     "status": "completed"
    },
    "tags": []
   },
   "outputs": [],
   "source": [
    "# Filling some columns Nan values with 0's\n",
    "\n",
    "for item in ('GarageYrBlt', 'GarageArea', 'GarageCars'):\n",
    "    total_data[item] = total_data[item].fillna(0)\n",
    "\n",
    "# Filling categorial columns Nan Values with 'None'\n",
    "\n",
    "for item in ['GarageType', 'GarageFinish', 'GarageQual', 'GarageCond','BsmtQual', 'BsmtCond', 'BsmtExposure', 'BsmtFinType1', 'BsmtFinType2']:\n",
    "    total_data[item] = total_data[item].fillna('None')"
   ]
  },
  {
   "cell_type": "code",
   "execution_count": 17,
   "id": "formed-simon",
   "metadata": {
    "execution": {
     "iopub.execute_input": "2021-06-05T16:05:48.688529Z",
     "iopub.status.busy": "2021-06-05T16:05:48.688022Z",
     "iopub.status.idle": "2021-06-05T16:05:48.737973Z",
     "shell.execute_reply": "2021-06-05T16:05:48.737530Z",
     "shell.execute_reply.started": "2021-06-05T15:57:06.203334Z"
    },
    "papermill": {
     "duration": 0.084794,
     "end_time": "2021-06-05T16:05:48.738078",
     "exception": false,
     "start_time": "2021-06-05T16:05:48.653284",
     "status": "completed"
    },
    "tags": []
   },
   "outputs": [],
   "source": [
    "# Filling remaining Object type columns Nan values with None\n",
    "objects = []\n",
    "for i in total_data.columns:\n",
    "    if total_data[i].dtype == object:\n",
    "        objects.append(i)\n",
    "total_data.update(total_data[objects].fillna('None'))"
   ]
  },
  {
   "cell_type": "code",
   "execution_count": 18,
   "id": "monthly-provision",
   "metadata": {
    "execution": {
     "iopub.execute_input": "2021-06-05T16:05:48.803723Z",
     "iopub.status.busy": "2021-06-05T16:05:48.802924Z",
     "iopub.status.idle": "2021-06-05T16:05:49.012334Z",
     "shell.execute_reply": "2021-06-05T16:05:49.012736Z",
     "shell.execute_reply.started": "2021-06-05T15:57:06.256595Z"
    },
    "papermill": {
     "duration": 0.24622,
     "end_time": "2021-06-05T16:05:49.012897",
     "exception": false,
     "start_time": "2021-06-05T16:05:48.766677",
     "status": "completed"
    },
    "tags": []
   },
   "outputs": [],
   "source": [
    "# Filling remaining Numerical type columns with 0 values\n",
    "numerical = total_data.select_dtypes(include=np.number).columns.tolist()\n",
    "for i in numerical:\n",
    "    total_data.update(total_data[i].fillna(0))"
   ]
  },
  {
   "cell_type": "markdown",
   "id": "precise-career",
   "metadata": {
    "papermill": {
     "duration": 0.028441,
     "end_time": "2021-06-05T16:05:49.070191",
     "exception": false,
     "start_time": "2021-06-05T16:05:49.041750",
     "status": "completed"
    },
    "tags": []
   },
   "source": [
    "Data Engineering"
   ]
  },
  {
   "cell_type": "code",
   "execution_count": 19,
   "id": "international-proxy",
   "metadata": {
    "execution": {
     "iopub.execute_input": "2021-06-05T16:05:49.133782Z",
     "iopub.status.busy": "2021-06-05T16:05:49.133051Z",
     "iopub.status.idle": "2021-06-05T16:05:49.136072Z",
     "shell.execute_reply": "2021-06-05T16:05:49.135483Z",
     "shell.execute_reply.started": "2021-06-05T15:57:06.476498Z"
    },
    "papermill": {
     "duration": 0.037125,
     "end_time": "2021-06-05T16:05:49.136188",
     "exception": false,
     "start_time": "2021-06-05T16:05:49.099063",
     "status": "completed"
    },
    "tags": []
   },
   "outputs": [],
   "source": [
    "# Dropping unwanted columns\n",
    "total_data = total_data.drop(['Utilities', 'Street', 'PoolQC',], axis=1)"
   ]
  },
  {
   "cell_type": "code",
   "execution_count": 20,
   "id": "equal-absolute",
   "metadata": {
    "execution": {
     "iopub.execute_input": "2021-06-05T16:05:49.204573Z",
     "iopub.status.busy": "2021-06-05T16:05:49.203910Z",
     "iopub.status.idle": "2021-06-05T16:05:49.206582Z",
     "shell.execute_reply": "2021-06-05T16:05:49.206199Z",
     "shell.execute_reply.started": "2021-06-05T15:57:06.484721Z"
    },
    "papermill": {
     "duration": 0.041895,
     "end_time": "2021-06-05T16:05:49.206681",
     "exception": false,
     "start_time": "2021-06-05T16:05:49.164786",
     "status": "completed"
    },
    "tags": []
   },
   "outputs": [],
   "source": [
    "# Engineered new columns \n",
    "total_data['YrBltAndRemod']=total_data['YearBuilt']+total_data['YearRemodAdd']\n",
    "total_data['TotalSF']=total_data['TotalBsmtSF'] + total_data['1stFlrSF'] + total_data['2ndFlrSF']\n",
    "\n",
    "total_data['Total_sqr_footage'] = (total_data['BsmtFinSF1'] + total_data['BsmtFinSF2'] +\n",
    "                                 total_data['1stFlrSF'] + total_data['2ndFlrSF'])\n",
    "\n",
    "total_data['Total_Bathrooms'] = (total_data['FullBath'] + (0.5 * total_data['HalfBath']) +\n",
    "                               total_data['BsmtFullBath'] + (0.5 * total_data['BsmtHalfBath']))\n",
    "\n",
    "total_data['Total_porch_sf'] = (total_data['OpenPorchSF'] + total_data['3SsnPorch'] +\n",
    "                              total_data['EnclosedPorch'] + total_data['ScreenPorch'] +\n",
    "                              total_data['WoodDeckSF'])"
   ]
  },
  {
   "cell_type": "code",
   "execution_count": 21,
   "id": "million-tomato",
   "metadata": {
    "execution": {
     "iopub.execute_input": "2021-06-05T16:05:49.280650Z",
     "iopub.status.busy": "2021-06-05T16:05:49.279981Z",
     "iopub.status.idle": "2021-06-05T16:05:49.282682Z",
     "shell.execute_reply": "2021-06-05T16:05:49.282269Z",
     "shell.execute_reply.started": "2021-06-05T15:57:06.501572Z"
    },
    "papermill": {
     "duration": 0.047574,
     "end_time": "2021-06-05T16:05:49.282779",
     "exception": false,
     "start_time": "2021-06-05T16:05:49.235205",
     "status": "completed"
    },
    "tags": []
   },
   "outputs": [],
   "source": [
    "# Simplifying Features\n",
    "total_data['haspool'] = total_data['PoolArea'].apply(lambda x: 1 if x > 0 else 0)\n",
    "total_data['has2ndfloor'] = total_data['2ndFlrSF'].apply(lambda x: 1 if x > 0 else 0)\n",
    "total_data['hasgarage'] = total_data['GarageArea'].apply(lambda x: 1 if x > 0 else 0)\n",
    "total_data['hasbsmt'] = total_data['TotalBsmtSF'].apply(lambda x: 1 if x > 0 else 0)\n",
    "total_data['hasfireplace'] = total_data['Fireplaces'].apply(lambda x: 1 if x > 0 else 0)"
   ]
  },
  {
   "cell_type": "code",
   "execution_count": 22,
   "id": "casual-combine",
   "metadata": {
    "execution": {
     "iopub.execute_input": "2021-06-05T16:05:49.343698Z",
     "iopub.status.busy": "2021-06-05T16:05:49.342930Z",
     "iopub.status.idle": "2021-06-05T16:05:49.388642Z",
     "shell.execute_reply": "2021-06-05T16:05:49.388050Z",
     "shell.execute_reply.started": "2021-06-05T15:57:06.523455Z"
    },
    "papermill": {
     "duration": 0.077355,
     "end_time": "2021-06-05T16:05:49.388778",
     "exception": false,
     "start_time": "2021-06-05T16:05:49.311423",
     "status": "completed"
    },
    "tags": []
   },
   "outputs": [
    {
     "name": "stdout",
     "output_type": "stream",
     "text": [
      "(2917, 86)\n",
      "(2917, 334)\n"
     ]
    }
   ],
   "source": [
    "# Adding pandas dummy values to encode features\n",
    "print(total_data.shape)\n",
    "final_data = pd.get_dummies(total_data).reset_index(drop=True)\n",
    "print(final_data.shape)"
   ]
  },
  {
   "cell_type": "code",
   "execution_count": 23,
   "id": "attractive-cameroon",
   "metadata": {
    "execution": {
     "iopub.execute_input": "2021-06-05T16:05:49.453002Z",
     "iopub.status.busy": "2021-06-05T16:05:49.452185Z",
     "iopub.status.idle": "2021-06-05T16:05:49.457136Z",
     "shell.execute_reply": "2021-06-05T16:05:49.456531Z",
     "shell.execute_reply.started": "2021-06-05T15:57:06.581057Z"
    },
    "papermill": {
     "duration": 0.038265,
     "end_time": "2021-06-05T16:05:49.457267",
     "exception": false,
     "start_time": "2021-06-05T16:05:49.419002",
     "status": "completed"
    },
    "tags": []
   },
   "outputs": [
    {
     "name": "stdout",
     "output_type": "stream",
     "text": [
      "x_train (1458, 334)\n",
      "y_train (1458,)\n",
      "x_test (1459, 334)\n"
     ]
    }
   ],
   "source": [
    "# Splitting Train and test values now with help of variable 'y' \n",
    "x_train = final_data.iloc[:len(y_train), :]\n",
    "x_test = final_data.iloc[len(x_train):, :]\n",
    "\n",
    "print('x_train', x_train.shape)\n",
    "print('y_train', y_train.shape)\n",
    "print('x_test', x_test.shape)"
   ]
  },
  {
   "cell_type": "code",
   "execution_count": 24,
   "id": "local-instruction",
   "metadata": {
    "execution": {
     "iopub.execute_input": "2021-06-05T16:05:49.522121Z",
     "iopub.status.busy": "2021-06-05T16:05:49.521327Z",
     "iopub.status.idle": "2021-06-05T16:05:49.706320Z",
     "shell.execute_reply": "2021-06-05T16:05:49.705650Z",
     "shell.execute_reply.started": "2021-06-05T15:57:06.590423Z"
    },
    "papermill": {
     "duration": 0.219351,
     "end_time": "2021-06-05T16:05:49.706480",
     "exception": false,
     "start_time": "2021-06-05T16:05:49.487129",
     "status": "completed"
    },
    "tags": []
   },
   "outputs": [
    {
     "name": "stdout",
     "output_type": "stream",
     "text": [
      "X_train (1458, 331)\n",
      "Y_train (1458,)\n",
      "X_test (1459, 331)\n"
     ]
    }
   ],
   "source": [
    "# Removing Overfitting features\n",
    "overfit = []\n",
    "for i in x_train.columns:\n",
    "    counts = x_train[i].value_counts()\n",
    "    zeros = counts.iloc[0]\n",
    "    if zeros / len(x_train) * 100 > 99.94:\n",
    "        overfit.append(i)\n",
    "\n",
    "overfit = list(overfit)\n",
    "# MSZoning_C have an extra field added in data \n",
    "overfit.append('MSZoning_C (all)')\n",
    "\n",
    "X = x_train.drop(overfit, axis=1).copy()\n",
    "X_test = x_test.drop(overfit, axis=1).copy()\n",
    "y = y_train.copy()\n",
    "\n",
    "print('X_train', X.shape)\n",
    "print('Y_train', y.shape)\n",
    "print('X_test', X_test.shape)"
   ]
  },
  {
   "cell_type": "markdown",
   "id": "private-clear",
   "metadata": {
    "papermill": {
     "duration": 0.029144,
     "end_time": "2021-06-05T16:05:49.766232",
     "exception": false,
     "start_time": "2021-06-05T16:05:49.737088",
     "status": "completed"
    },
    "tags": []
   },
   "source": [
    "Defining and training models"
   ]
  },
  {
   "cell_type": "code",
   "execution_count": 25,
   "id": "mysterious-excerpt",
   "metadata": {
    "execution": {
     "iopub.execute_input": "2021-06-05T16:05:49.829428Z",
     "iopub.status.busy": "2021-06-05T16:05:49.828930Z",
     "iopub.status.idle": "2021-06-05T16:05:56.240412Z",
     "shell.execute_reply": "2021-06-05T16:05:56.239954Z",
     "shell.execute_reply.started": "2021-06-05T15:57:06.778269Z"
    },
    "papermill": {
     "duration": 6.444931,
     "end_time": "2021-06-05T16:05:56.240543",
     "exception": false,
     "start_time": "2021-06-05T16:05:49.795612",
     "status": "completed"
    },
    "tags": []
   },
   "outputs": [],
   "source": [
    "# Sequential Model\n",
    "from keras.models import Sequential\n",
    "from keras.layers import Dense\n",
    "\n",
    "nn = Sequential()\n",
    "nn.add(Dense(118, activation='relu', kernel_initializer='normal', input_dim = 331))\n",
    "nn.add(Dense(59, activation='relu'))\n",
    "nn.add(Dense(1, kernel_initializer='normal'))"
   ]
  },
  {
   "cell_type": "code",
   "execution_count": 26,
   "id": "aquatic-harbor",
   "metadata": {
    "execution": {
     "iopub.execute_input": "2021-06-05T16:05:56.309866Z",
     "iopub.status.busy": "2021-06-05T16:05:56.309075Z",
     "iopub.status.idle": "2021-06-05T16:05:56.315289Z",
     "shell.execute_reply": "2021-06-05T16:05:56.315673Z",
     "shell.execute_reply.started": "2021-06-05T15:57:06.813301Z"
    },
    "papermill": {
     "duration": 0.045105,
     "end_time": "2021-06-05T16:05:56.315785",
     "exception": false,
     "start_time": "2021-06-05T16:05:56.270680",
     "status": "completed"
    },
    "tags": []
   },
   "outputs": [],
   "source": [
    "# Complie the model\n",
    "from keras.optimizers import Adam\n",
    "opt = Adam(lr=0.1)\n",
    "nn.compile(loss='mean_squared_error', optimizer = opt )"
   ]
  },
  {
   "cell_type": "code",
   "execution_count": 27,
   "id": "distant-cookie",
   "metadata": {
    "execution": {
     "iopub.execute_input": "2021-06-05T16:05:56.379528Z",
     "iopub.status.busy": "2021-06-05T16:05:56.378728Z",
     "iopub.status.idle": "2021-06-05T16:05:56.383231Z",
     "shell.execute_reply": "2021-06-05T16:05:56.382787Z",
     "shell.execute_reply.started": "2021-06-05T15:57:06.828233Z"
    },
    "papermill": {
     "duration": 0.038194,
     "end_time": "2021-06-05T16:05:56.383328",
     "exception": false,
     "start_time": "2021-06-05T16:05:56.345134",
     "status": "completed"
    },
    "tags": []
   },
   "outputs": [
    {
     "name": "stdout",
     "output_type": "stream",
     "text": [
      "Model: \"sequential\"\n",
      "_________________________________________________________________\n",
      "Layer (type)                 Output Shape              Param #   \n",
      "=================================================================\n",
      "dense (Dense)                (None, 118)               39176     \n",
      "_________________________________________________________________\n",
      "dense_1 (Dense)              (None, 59)                7021      \n",
      "_________________________________________________________________\n",
      "dense_2 (Dense)              (None, 1)                 60        \n",
      "=================================================================\n",
      "Total params: 46,257\n",
      "Trainable params: 46,257\n",
      "Non-trainable params: 0\n",
      "_________________________________________________________________\n"
     ]
    }
   ],
   "source": [
    "# Model summary \n",
    "nn.summary()"
   ]
  },
  {
   "cell_type": "code",
   "execution_count": 28,
   "id": "french-injection",
   "metadata": {
    "execution": {
     "iopub.execute_input": "2021-06-05T16:05:56.447118Z",
     "iopub.status.busy": "2021-06-05T16:05:56.446482Z",
     "iopub.status.idle": "2021-06-05T16:05:56.449358Z",
     "shell.execute_reply": "2021-06-05T16:05:56.448952Z",
     "shell.execute_reply.started": "2021-06-05T15:57:06.839516Z"
    },
    "papermill": {
     "duration": 0.036344,
     "end_time": "2021-06-05T16:05:56.449452",
     "exception": false,
     "start_time": "2021-06-05T16:05:56.413108",
     "status": "completed"
    },
    "tags": []
   },
   "outputs": [],
   "source": [
    "# Define XG-Boost Model\n",
    "xgb = XGBRegressor(learning_rate=0.01, n_estimators=3460,\n",
    "                                     max_depth=3, min_child_weight=0,\n",
    "                                     gamma=0, subsample=0.7,\n",
    "                                     colsample_bytree=0.7,\n",
    "                                     objective='reg:linear', nthread=-1,\n",
    "                                     scale_pos_weight=1, seed=27,\n",
    "                                     reg_alpha=0.00006, random_state=42)"
   ]
  },
  {
   "cell_type": "code",
   "execution_count": 29,
   "id": "executive-request",
   "metadata": {
    "execution": {
     "iopub.execute_input": "2021-06-05T16:05:56.512290Z",
     "iopub.status.busy": "2021-06-05T16:05:56.511754Z",
     "iopub.status.idle": "2021-06-05T16:06:49.969970Z",
     "shell.execute_reply": "2021-06-05T16:06:49.970376Z",
     "shell.execute_reply.started": "2021-06-05T15:57:06.846604Z"
    },
    "papermill": {
     "duration": 53.491304,
     "end_time": "2021-06-05T16:06:49.970518",
     "exception": false,
     "start_time": "2021-06-05T16:05:56.479214",
     "status": "completed"
    },
    "tags": []
   },
   "outputs": [
    {
     "name": "stdout",
     "output_type": "stream",
     "text": [
      "[16:06:23] WARNING: ../src/objective/regression_obj.cu:171: reg:linear is now deprecated in favor of reg:squarederror.\n"
     ]
    },
    {
     "data": {
      "text/plain": [
       "XGBRegressor(base_score=0.5, booster='gbtree', colsample_bylevel=1,\n",
       "             colsample_bynode=1, colsample_bytree=0.7, gamma=0, gpu_id=-1,\n",
       "             importance_type='gain', interaction_constraints='',\n",
       "             learning_rate=0.01, max_delta_step=0, max_depth=3,\n",
       "             min_child_weight=0, missing=nan, monotone_constraints='()',\n",
       "             n_estimators=3460, n_jobs=2, nthread=-1, num_parallel_tree=1,\n",
       "             objective='reg:linear', random_state=42, reg_alpha=6e-05,\n",
       "             reg_lambda=1, scale_pos_weight=1, seed=27, subsample=0.7,\n",
       "             tree_method='exact', validate_parameters=1, verbosity=None)"
      ]
     },
     "execution_count": 29,
     "metadata": {},
     "output_type": "execute_result"
    }
   ],
   "source": [
    "# Fitting both the models on test set\n",
    "\n",
    "nn.fit(X,y, epochs = 400, batch_size = 32,verbose = 0)\n",
    "xgb.fit(X,y)"
   ]
  },
  {
   "cell_type": "code",
   "execution_count": 30,
   "id": "editorial-permission",
   "metadata": {
    "execution": {
     "iopub.execute_input": "2021-06-05T16:06:50.035824Z",
     "iopub.status.busy": "2021-06-05T16:06:50.035100Z",
     "iopub.status.idle": "2021-06-05T16:06:50.222600Z",
     "shell.execute_reply": "2021-06-05T16:06:50.223094Z",
     "shell.execute_reply.started": "2021-06-05T15:59:44.812811Z"
    },
    "papermill": {
     "duration": 0.222344,
     "end_time": "2021-06-05T16:06:50.223244",
     "exception": false,
     "start_time": "2021-06-05T16:06:50.000900",
     "status": "completed"
    },
    "tags": []
   },
   "outputs": [
    {
     "data": {
      "text/plain": [
       "array([[129541.55],\n",
       "       [186266.55],\n",
       "       [192711.39],\n",
       "       ...,\n",
       "       [176221.03],\n",
       "       [121753.55],\n",
       "       [214159.78]], dtype=float32)"
      ]
     },
     "execution_count": 30,
     "metadata": {},
     "output_type": "execute_result"
    }
   ],
   "source": [
    "# Ensembling with the weighted average model\n",
    "\n",
    "# Predicting test data with neural net and XG-boost models\n",
    "pred1 = nn.predict(X_test)\n",
    "pred2 = xgb.predict(X_test)\n",
    "pred2 = pred2.reshape(1459,1)\n",
    "\n",
    "# Combining both the predictions with average of 0.5 to both model\n",
    "# You can change the average weightage of the individual models \n",
    "finalpred=( pred1 * 0.5 + pred2 * 0.5)\n",
    "finalpred"
   ]
  },
  {
   "cell_type": "code",
   "execution_count": 31,
   "id": "likely-photographer",
   "metadata": {
    "execution": {
     "iopub.execute_input": "2021-06-05T16:06:50.295492Z",
     "iopub.status.busy": "2021-06-05T16:06:50.294861Z",
     "iopub.status.idle": "2021-06-05T16:06:50.305860Z",
     "shell.execute_reply": "2021-06-05T16:06:50.305425Z",
     "shell.execute_reply.started": "2021-06-05T16:03:54.150999Z"
    },
    "papermill": {
     "duration": 0.049683,
     "end_time": "2021-06-05T16:06:50.305966",
     "exception": false,
     "start_time": "2021-06-05T16:06:50.256283",
     "status": "completed"
    },
    "tags": []
   },
   "outputs": [],
   "source": [
    "# Predict submission\n",
    "submission = pd.read_csv(\"../input/house-prices-advanced-regression-techniques/sample_submission.csv\")\n",
    "submission.iloc[:,1] = np.floor(finalpred)"
   ]
  },
  {
   "cell_type": "code",
   "execution_count": 32,
   "id": "valued-factor",
   "metadata": {
    "execution": {
     "iopub.execute_input": "2021-06-05T16:06:50.370575Z",
     "iopub.status.busy": "2021-06-05T16:06:50.370042Z",
     "iopub.status.idle": "2021-06-05T16:06:50.384171Z",
     "shell.execute_reply": "2021-06-05T16:06:50.383644Z",
     "shell.execute_reply.started": "2021-06-05T15:57:58.762515Z"
    },
    "papermill": {
     "duration": 0.047585,
     "end_time": "2021-06-05T16:06:50.384273",
     "exception": false,
     "start_time": "2021-06-05T16:06:50.336688",
     "status": "completed"
    },
    "tags": []
   },
   "outputs": [],
   "source": [
    "# Submission\n",
    "submission.to_csv(\"submission.csv\", index=False)"
   ]
  }
 ],
 "metadata": {
  "kernelspec": {
   "display_name": "Python 3",
   "language": "python",
   "name": "python3"
  },
  "language_info": {
   "codemirror_mode": {
    "name": "ipython",
    "version": 3
   },
   "file_extension": ".py",
   "mimetype": "text/x-python",
   "name": "python",
   "nbconvert_exporter": "python",
   "pygments_lexer": "ipython3",
   "version": "3.7.10"
  },
  "papermill": {
   "default_parameters": {},
   "duration": 75.739534,
   "end_time": "2021-06-05T16:06:52.429401",
   "environment_variables": {},
   "exception": null,
   "input_path": "__notebook__.ipynb",
   "output_path": "__notebook__.ipynb",
   "parameters": {},
   "start_time": "2021-06-05T16:05:36.689867",
   "version": "2.3.3"
  }
 },
 "nbformat": 4,
 "nbformat_minor": 5
}

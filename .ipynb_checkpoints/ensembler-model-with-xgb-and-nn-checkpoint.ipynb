{
 "cells": [
  {
   "cell_type": "code",
   "execution_count": 229,
   "metadata": {
    "_cell_guid": "b1076dfc-b9ad-4769-8c92-a6c4dae69d19",
    "_uuid": "8f2839f25d086af736a60e9eeb907d3b93b6e0e5",
    "execution": {
     "iopub.execute_input": "2021-06-01T20:40:09.034699Z",
     "iopub.status.busy": "2021-06-01T20:40:09.034064Z",
     "iopub.status.idle": "2021-06-01T20:40:09.042517Z",
     "shell.execute_reply": "2021-06-01T20:40:09.041771Z",
     "shell.execute_reply.started": "2021-06-01T20:40:09.034664Z"
    }
   },
   "outputs": [
    {
     "name": "stdout",
     "output_type": "stream",
     "text": [
      "/kaggle/input/house-prices-advanced-regression-techniques/sample_submission.csv\n",
      "/kaggle/input/house-prices-advanced-regression-techniques/data_description.txt\n",
      "/kaggle/input/house-prices-advanced-regression-techniques/train.csv\n",
      "/kaggle/input/house-prices-advanced-regression-techniques/test.csv\n"
     ]
    }
   ],
   "source": [
    "# This Python 3 environment comes with many helpful analytics libraries installed\n",
    "# It is defined by the kaggle/python Docker image: https://github.com/kaggle/docker-python\n",
    "# For example, here's several helpful packages to load\n",
    "\n",
    "import numpy as np # linear algebra\n",
    "import pandas as pd # data processing, CSV file I/O (e.g. pd.read_csv)\n",
    "\n",
    "# Input data files are available in the read-only \"../input/\" directory\n",
    "# For example, running this (by clicking run or pressing Shift+Enter) will list all files under the input directory\n",
    "\n",
    "import os\n",
    "for dirname, _, filenames in os.walk('/kaggle/input'):\n",
    "    for filename in filenames:\n",
    "        print(os.path.join(dirname, filename))\n",
    "\n",
    "# You can write up to 20GB to the current directory (/kaggle/working/) that gets preserved as output when you create a version using \"Save & Run All\" \n",
    "# You can also write temporary files to /kaggle/temp/, but they won't be saved outside of the current session"
   ]
  },
  {
   "cell_type": "code",
   "execution_count": 230,
   "metadata": {
    "execution": {
     "iopub.execute_input": "2021-06-01T20:40:09.508264Z",
     "iopub.status.busy": "2021-06-01T20:40:09.507668Z",
     "iopub.status.idle": "2021-06-01T20:40:09.512811Z",
     "shell.execute_reply": "2021-06-01T20:40:09.512056Z",
     "shell.execute_reply.started": "2021-06-01T20:40:09.508231Z"
    }
   },
   "outputs": [],
   "source": [
    "import numpy as np \n",
    "import pandas as pd\n",
    "import matplotlib.pyplot as plt\n",
    "import seaborn as sns\n",
    "from xgboost import XGBRegressor\n",
    "from sklearn.model_selection import cross_val_score\n",
    "from sklearn.model_selection import KFold\n",
    "from numpy import absolute\n",
    "import warnings\n",
    "warnings.filterwarnings('ignore')"
   ]
  },
  {
   "cell_type": "markdown",
   "metadata": {},
   "source": [
    "Data Analysis"
   ]
  },
  {
   "cell_type": "code",
   "execution_count": 231,
   "metadata": {
    "execution": {
     "iopub.execute_input": "2021-06-01T20:40:09.825966Z",
     "iopub.status.busy": "2021-06-01T20:40:09.825619Z",
     "iopub.status.idle": "2021-06-01T20:40:09.875826Z",
     "shell.execute_reply": "2021-06-01T20:40:09.874871Z",
     "shell.execute_reply.started": "2021-06-01T20:40:09.825938Z"
    }
   },
   "outputs": [
    {
     "data": {
      "text/html": [
       "<div>\n",
       "<style scoped>\n",
       "    .dataframe tbody tr th:only-of-type {\n",
       "        vertical-align: middle;\n",
       "    }\n",
       "\n",
       "    .dataframe tbody tr th {\n",
       "        vertical-align: top;\n",
       "    }\n",
       "\n",
       "    .dataframe thead th {\n",
       "        text-align: right;\n",
       "    }\n",
       "</style>\n",
       "<table border=\"1\" class=\"dataframe\">\n",
       "  <thead>\n",
       "    <tr style=\"text-align: right;\">\n",
       "      <th></th>\n",
       "      <th>Id</th>\n",
       "      <th>MSSubClass</th>\n",
       "      <th>MSZoning</th>\n",
       "      <th>LotFrontage</th>\n",
       "      <th>LotArea</th>\n",
       "      <th>Street</th>\n",
       "      <th>Alley</th>\n",
       "      <th>LotShape</th>\n",
       "      <th>LandContour</th>\n",
       "      <th>Utilities</th>\n",
       "      <th>...</th>\n",
       "      <th>PoolArea</th>\n",
       "      <th>PoolQC</th>\n",
       "      <th>Fence</th>\n",
       "      <th>MiscFeature</th>\n",
       "      <th>MiscVal</th>\n",
       "      <th>MoSold</th>\n",
       "      <th>YrSold</th>\n",
       "      <th>SaleType</th>\n",
       "      <th>SaleCondition</th>\n",
       "      <th>SalePrice</th>\n",
       "    </tr>\n",
       "  </thead>\n",
       "  <tbody>\n",
       "    <tr>\n",
       "      <th>0</th>\n",
       "      <td>1</td>\n",
       "      <td>60</td>\n",
       "      <td>RL</td>\n",
       "      <td>65.0</td>\n",
       "      <td>8450</td>\n",
       "      <td>Pave</td>\n",
       "      <td>NaN</td>\n",
       "      <td>Reg</td>\n",
       "      <td>Lvl</td>\n",
       "      <td>AllPub</td>\n",
       "      <td>...</td>\n",
       "      <td>0</td>\n",
       "      <td>NaN</td>\n",
       "      <td>NaN</td>\n",
       "      <td>NaN</td>\n",
       "      <td>0</td>\n",
       "      <td>2</td>\n",
       "      <td>2008</td>\n",
       "      <td>WD</td>\n",
       "      <td>Normal</td>\n",
       "      <td>208500</td>\n",
       "    </tr>\n",
       "    <tr>\n",
       "      <th>1</th>\n",
       "      <td>2</td>\n",
       "      <td>20</td>\n",
       "      <td>RL</td>\n",
       "      <td>80.0</td>\n",
       "      <td>9600</td>\n",
       "      <td>Pave</td>\n",
       "      <td>NaN</td>\n",
       "      <td>Reg</td>\n",
       "      <td>Lvl</td>\n",
       "      <td>AllPub</td>\n",
       "      <td>...</td>\n",
       "      <td>0</td>\n",
       "      <td>NaN</td>\n",
       "      <td>NaN</td>\n",
       "      <td>NaN</td>\n",
       "      <td>0</td>\n",
       "      <td>5</td>\n",
       "      <td>2007</td>\n",
       "      <td>WD</td>\n",
       "      <td>Normal</td>\n",
       "      <td>181500</td>\n",
       "    </tr>\n",
       "    <tr>\n",
       "      <th>2</th>\n",
       "      <td>3</td>\n",
       "      <td>60</td>\n",
       "      <td>RL</td>\n",
       "      <td>68.0</td>\n",
       "      <td>11250</td>\n",
       "      <td>Pave</td>\n",
       "      <td>NaN</td>\n",
       "      <td>IR1</td>\n",
       "      <td>Lvl</td>\n",
       "      <td>AllPub</td>\n",
       "      <td>...</td>\n",
       "      <td>0</td>\n",
       "      <td>NaN</td>\n",
       "      <td>NaN</td>\n",
       "      <td>NaN</td>\n",
       "      <td>0</td>\n",
       "      <td>9</td>\n",
       "      <td>2008</td>\n",
       "      <td>WD</td>\n",
       "      <td>Normal</td>\n",
       "      <td>223500</td>\n",
       "    </tr>\n",
       "    <tr>\n",
       "      <th>3</th>\n",
       "      <td>4</td>\n",
       "      <td>70</td>\n",
       "      <td>RL</td>\n",
       "      <td>60.0</td>\n",
       "      <td>9550</td>\n",
       "      <td>Pave</td>\n",
       "      <td>NaN</td>\n",
       "      <td>IR1</td>\n",
       "      <td>Lvl</td>\n",
       "      <td>AllPub</td>\n",
       "      <td>...</td>\n",
       "      <td>0</td>\n",
       "      <td>NaN</td>\n",
       "      <td>NaN</td>\n",
       "      <td>NaN</td>\n",
       "      <td>0</td>\n",
       "      <td>2</td>\n",
       "      <td>2006</td>\n",
       "      <td>WD</td>\n",
       "      <td>Abnorml</td>\n",
       "      <td>140000</td>\n",
       "    </tr>\n",
       "    <tr>\n",
       "      <th>4</th>\n",
       "      <td>5</td>\n",
       "      <td>60</td>\n",
       "      <td>RL</td>\n",
       "      <td>84.0</td>\n",
       "      <td>14260</td>\n",
       "      <td>Pave</td>\n",
       "      <td>NaN</td>\n",
       "      <td>IR1</td>\n",
       "      <td>Lvl</td>\n",
       "      <td>AllPub</td>\n",
       "      <td>...</td>\n",
       "      <td>0</td>\n",
       "      <td>NaN</td>\n",
       "      <td>NaN</td>\n",
       "      <td>NaN</td>\n",
       "      <td>0</td>\n",
       "      <td>12</td>\n",
       "      <td>2008</td>\n",
       "      <td>WD</td>\n",
       "      <td>Normal</td>\n",
       "      <td>250000</td>\n",
       "    </tr>\n",
       "  </tbody>\n",
       "</table>\n",
       "<p>5 rows × 81 columns</p>\n",
       "</div>"
      ],
      "text/plain": [
       "   Id  MSSubClass MSZoning  LotFrontage  LotArea Street Alley LotShape  \\\n",
       "0   1          60       RL         65.0     8450   Pave   NaN      Reg   \n",
       "1   2          20       RL         80.0     9600   Pave   NaN      Reg   \n",
       "2   3          60       RL         68.0    11250   Pave   NaN      IR1   \n",
       "3   4          70       RL         60.0     9550   Pave   NaN      IR1   \n",
       "4   5          60       RL         84.0    14260   Pave   NaN      IR1   \n",
       "\n",
       "  LandContour Utilities  ... PoolArea PoolQC Fence MiscFeature MiscVal MoSold  \\\n",
       "0         Lvl    AllPub  ...        0    NaN   NaN         NaN       0      2   \n",
       "1         Lvl    AllPub  ...        0    NaN   NaN         NaN       0      5   \n",
       "2         Lvl    AllPub  ...        0    NaN   NaN         NaN       0      9   \n",
       "3         Lvl    AllPub  ...        0    NaN   NaN         NaN       0      2   \n",
       "4         Lvl    AllPub  ...        0    NaN   NaN         NaN       0     12   \n",
       "\n",
       "  YrSold  SaleType  SaleCondition  SalePrice  \n",
       "0   2008        WD         Normal     208500  \n",
       "1   2007        WD         Normal     181500  \n",
       "2   2008        WD         Normal     223500  \n",
       "3   2006        WD        Abnorml     140000  \n",
       "4   2008        WD         Normal     250000  \n",
       "\n",
       "[5 rows x 81 columns]"
      ]
     },
     "execution_count": 231,
     "metadata": {},
     "output_type": "execute_result"
    }
   ],
   "source": [
    "# Training Data\n",
    "\n",
    "train = pd.read_csv(\"../input/house-prices-advanced-regression-techniques/train.csv\")\n",
    "train.head()"
   ]
  },
  {
   "cell_type": "code",
   "execution_count": 232,
   "metadata": {
    "execution": {
     "iopub.execute_input": "2021-06-01T20:40:10.056842Z",
     "iopub.status.busy": "2021-06-01T20:40:10.056446Z",
     "iopub.status.idle": "2021-06-01T20:40:10.105083Z",
     "shell.execute_reply": "2021-06-01T20:40:10.104048Z",
     "shell.execute_reply.started": "2021-06-01T20:40:10.056798Z"
    }
   },
   "outputs": [
    {
     "data": {
      "text/html": [
       "<div>\n",
       "<style scoped>\n",
       "    .dataframe tbody tr th:only-of-type {\n",
       "        vertical-align: middle;\n",
       "    }\n",
       "\n",
       "    .dataframe tbody tr th {\n",
       "        vertical-align: top;\n",
       "    }\n",
       "\n",
       "    .dataframe thead th {\n",
       "        text-align: right;\n",
       "    }\n",
       "</style>\n",
       "<table border=\"1\" class=\"dataframe\">\n",
       "  <thead>\n",
       "    <tr style=\"text-align: right;\">\n",
       "      <th></th>\n",
       "      <th>Id</th>\n",
       "      <th>MSSubClass</th>\n",
       "      <th>MSZoning</th>\n",
       "      <th>LotFrontage</th>\n",
       "      <th>LotArea</th>\n",
       "      <th>Street</th>\n",
       "      <th>Alley</th>\n",
       "      <th>LotShape</th>\n",
       "      <th>LandContour</th>\n",
       "      <th>Utilities</th>\n",
       "      <th>...</th>\n",
       "      <th>ScreenPorch</th>\n",
       "      <th>PoolArea</th>\n",
       "      <th>PoolQC</th>\n",
       "      <th>Fence</th>\n",
       "      <th>MiscFeature</th>\n",
       "      <th>MiscVal</th>\n",
       "      <th>MoSold</th>\n",
       "      <th>YrSold</th>\n",
       "      <th>SaleType</th>\n",
       "      <th>SaleCondition</th>\n",
       "    </tr>\n",
       "  </thead>\n",
       "  <tbody>\n",
       "    <tr>\n",
       "      <th>0</th>\n",
       "      <td>1461</td>\n",
       "      <td>20</td>\n",
       "      <td>RH</td>\n",
       "      <td>80.0</td>\n",
       "      <td>11622</td>\n",
       "      <td>Pave</td>\n",
       "      <td>NaN</td>\n",
       "      <td>Reg</td>\n",
       "      <td>Lvl</td>\n",
       "      <td>AllPub</td>\n",
       "      <td>...</td>\n",
       "      <td>120</td>\n",
       "      <td>0</td>\n",
       "      <td>NaN</td>\n",
       "      <td>MnPrv</td>\n",
       "      <td>NaN</td>\n",
       "      <td>0</td>\n",
       "      <td>6</td>\n",
       "      <td>2010</td>\n",
       "      <td>WD</td>\n",
       "      <td>Normal</td>\n",
       "    </tr>\n",
       "    <tr>\n",
       "      <th>1</th>\n",
       "      <td>1462</td>\n",
       "      <td>20</td>\n",
       "      <td>RL</td>\n",
       "      <td>81.0</td>\n",
       "      <td>14267</td>\n",
       "      <td>Pave</td>\n",
       "      <td>NaN</td>\n",
       "      <td>IR1</td>\n",
       "      <td>Lvl</td>\n",
       "      <td>AllPub</td>\n",
       "      <td>...</td>\n",
       "      <td>0</td>\n",
       "      <td>0</td>\n",
       "      <td>NaN</td>\n",
       "      <td>NaN</td>\n",
       "      <td>Gar2</td>\n",
       "      <td>12500</td>\n",
       "      <td>6</td>\n",
       "      <td>2010</td>\n",
       "      <td>WD</td>\n",
       "      <td>Normal</td>\n",
       "    </tr>\n",
       "    <tr>\n",
       "      <th>2</th>\n",
       "      <td>1463</td>\n",
       "      <td>60</td>\n",
       "      <td>RL</td>\n",
       "      <td>74.0</td>\n",
       "      <td>13830</td>\n",
       "      <td>Pave</td>\n",
       "      <td>NaN</td>\n",
       "      <td>IR1</td>\n",
       "      <td>Lvl</td>\n",
       "      <td>AllPub</td>\n",
       "      <td>...</td>\n",
       "      <td>0</td>\n",
       "      <td>0</td>\n",
       "      <td>NaN</td>\n",
       "      <td>MnPrv</td>\n",
       "      <td>NaN</td>\n",
       "      <td>0</td>\n",
       "      <td>3</td>\n",
       "      <td>2010</td>\n",
       "      <td>WD</td>\n",
       "      <td>Normal</td>\n",
       "    </tr>\n",
       "    <tr>\n",
       "      <th>3</th>\n",
       "      <td>1464</td>\n",
       "      <td>60</td>\n",
       "      <td>RL</td>\n",
       "      <td>78.0</td>\n",
       "      <td>9978</td>\n",
       "      <td>Pave</td>\n",
       "      <td>NaN</td>\n",
       "      <td>IR1</td>\n",
       "      <td>Lvl</td>\n",
       "      <td>AllPub</td>\n",
       "      <td>...</td>\n",
       "      <td>0</td>\n",
       "      <td>0</td>\n",
       "      <td>NaN</td>\n",
       "      <td>NaN</td>\n",
       "      <td>NaN</td>\n",
       "      <td>0</td>\n",
       "      <td>6</td>\n",
       "      <td>2010</td>\n",
       "      <td>WD</td>\n",
       "      <td>Normal</td>\n",
       "    </tr>\n",
       "    <tr>\n",
       "      <th>4</th>\n",
       "      <td>1465</td>\n",
       "      <td>120</td>\n",
       "      <td>RL</td>\n",
       "      <td>43.0</td>\n",
       "      <td>5005</td>\n",
       "      <td>Pave</td>\n",
       "      <td>NaN</td>\n",
       "      <td>IR1</td>\n",
       "      <td>HLS</td>\n",
       "      <td>AllPub</td>\n",
       "      <td>...</td>\n",
       "      <td>144</td>\n",
       "      <td>0</td>\n",
       "      <td>NaN</td>\n",
       "      <td>NaN</td>\n",
       "      <td>NaN</td>\n",
       "      <td>0</td>\n",
       "      <td>1</td>\n",
       "      <td>2010</td>\n",
       "      <td>WD</td>\n",
       "      <td>Normal</td>\n",
       "    </tr>\n",
       "  </tbody>\n",
       "</table>\n",
       "<p>5 rows × 80 columns</p>\n",
       "</div>"
      ],
      "text/plain": [
       "     Id  MSSubClass MSZoning  LotFrontage  LotArea Street Alley LotShape  \\\n",
       "0  1461          20       RH         80.0    11622   Pave   NaN      Reg   \n",
       "1  1462          20       RL         81.0    14267   Pave   NaN      IR1   \n",
       "2  1463          60       RL         74.0    13830   Pave   NaN      IR1   \n",
       "3  1464          60       RL         78.0     9978   Pave   NaN      IR1   \n",
       "4  1465         120       RL         43.0     5005   Pave   NaN      IR1   \n",
       "\n",
       "  LandContour Utilities  ... ScreenPorch PoolArea PoolQC  Fence MiscFeature  \\\n",
       "0         Lvl    AllPub  ...         120        0    NaN  MnPrv         NaN   \n",
       "1         Lvl    AllPub  ...           0        0    NaN    NaN        Gar2   \n",
       "2         Lvl    AllPub  ...           0        0    NaN  MnPrv         NaN   \n",
       "3         Lvl    AllPub  ...           0        0    NaN    NaN         NaN   \n",
       "4         HLS    AllPub  ...         144        0    NaN    NaN         NaN   \n",
       "\n",
       "  MiscVal MoSold  YrSold  SaleType  SaleCondition  \n",
       "0       0      6    2010        WD         Normal  \n",
       "1   12500      6    2010        WD         Normal  \n",
       "2       0      3    2010        WD         Normal  \n",
       "3       0      6    2010        WD         Normal  \n",
       "4       0      1    2010        WD         Normal  \n",
       "\n",
       "[5 rows x 80 columns]"
      ]
     },
     "execution_count": 232,
     "metadata": {},
     "output_type": "execute_result"
    }
   ],
   "source": [
    "# Testing Data\n",
    "\n",
    "test = pd.read_csv(\"../input/house-prices-advanced-regression-techniques/test.csv\")\n",
    "test.head()"
   ]
  },
  {
   "cell_type": "code",
   "execution_count": 233,
   "metadata": {
    "execution": {
     "iopub.execute_input": "2021-06-01T20:40:10.144831Z",
     "iopub.status.busy": "2021-06-01T20:40:10.144465Z",
     "iopub.status.idle": "2021-06-01T20:40:10.153444Z",
     "shell.execute_reply": "2021-06-01T20:40:10.152368Z",
     "shell.execute_reply.started": "2021-06-01T20:40:10.144798Z"
    }
   },
   "outputs": [],
   "source": [
    "# Saving ID on a new variable and Dropping ID column\n",
    "\n",
    "train_ID = train['Id']\n",
    "test_ID = test['Id']\n",
    "train.drop(['Id'], axis=1, inplace=True)\n",
    "test.drop(['Id'], axis=1, inplace=True)"
   ]
  },
  {
   "cell_type": "code",
   "execution_count": 234,
   "metadata": {
    "execution": {
     "iopub.execute_input": "2021-06-01T20:40:10.367961Z",
     "iopub.status.busy": "2021-06-01T20:40:10.367618Z",
     "iopub.status.idle": "2021-06-01T20:40:10.372297Z",
     "shell.execute_reply": "2021-06-01T20:40:10.371458Z",
     "shell.execute_reply.started": "2021-06-01T20:40:10.367934Z"
    }
   },
   "outputs": [],
   "source": [
    "# Plotting to find outliers \n",
    "# for items in train.columns:\n",
    "#     if len(train[items].unique()) < 20:\n",
    "#         sns.catplot(x=train[items], y=train['SalePrice'], data=train)\n",
    "#         plt.show()\n",
    "#     else:\n",
    "#         sns.scatterplot(x=train[items],y=train['SalePrice'])\n",
    "#         plt.show()"
   ]
  },
  {
   "cell_type": "code",
   "execution_count": 235,
   "metadata": {
    "execution": {
     "iopub.execute_input": "2021-06-01T20:40:10.610605Z",
     "iopub.status.busy": "2021-06-01T20:40:10.610252Z",
     "iopub.status.idle": "2021-06-01T20:40:10.621054Z",
     "shell.execute_reply": "2021-06-01T20:40:10.619890Z",
     "shell.execute_reply.started": "2021-06-01T20:40:10.610575Z"
    }
   },
   "outputs": [
    {
     "name": "stdout",
     "output_type": "stream",
     "text": [
      "(1458, 80)\n"
     ]
    }
   ],
   "source": [
    "# Removing Outlier\n",
    "train = train[train.GrLivArea < 4500]\n",
    "train.reset_index(drop=True, inplace=True)\n",
    "print(train.shape)"
   ]
  },
  {
   "cell_type": "markdown",
   "metadata": {},
   "source": [
    "Visualizing output data from train set"
   ]
  },
  {
   "cell_type": "code",
   "execution_count": 236,
   "metadata": {
    "execution": {
     "iopub.execute_input": "2021-06-01T20:40:10.786941Z",
     "iopub.status.busy": "2021-06-01T20:40:10.786606Z",
     "iopub.status.idle": "2021-06-01T20:40:11.004394Z",
     "shell.execute_reply": "2021-06-01T20:40:11.003347Z",
     "shell.execute_reply.started": "2021-06-01T20:40:10.786913Z"
    }
   },
   "outputs": [
    {
     "data": {
      "text/plain": [
       "<AxesSubplot:>"
      ]
     },
     "execution_count": 236,
     "metadata": {},
     "output_type": "execute_result"
    },
    {
     "data": {
      "image/png": "[encoded data removed]",
      "text/plain": [
       "<Figure size 432x288 with 1 Axes>"
      ]
     },
     "metadata": {
      "needs_background": "light"
     },
     "output_type": "display_data"
    }
   ],
   "source": [
    "# Plotting output data for Visualization\n",
    "train['SalePrice'].hist(bins = 40)"
   ]
  },
  {
   "cell_type": "markdown",
   "metadata": {},
   "source": []
  },
  {
   "cell_type": "markdown",
   "metadata": {},
   "source": [
    "Data is skewed, we will use log1p to remove the skewness in data"
   ]
  },
  {
   "cell_type": "code",
   "execution_count": 237,
   "metadata": {
    "execution": {
     "iopub.execute_input": "2021-06-01T20:40:11.042401Z",
     "iopub.status.busy": "2021-06-01T20:40:11.042053Z",
     "iopub.status.idle": "2021-06-01T20:40:11.267143Z",
     "shell.execute_reply": "2021-06-01T20:40:11.266145Z",
     "shell.execute_reply.started": "2021-06-01T20:40:11.042373Z"
    }
   },
   "outputs": [
    {
     "data": {
      "text/plain": [
       "<AxesSubplot:>"
      ]
     },
     "execution_count": 237,
     "metadata": {},
     "output_type": "execute_result"
    },
    {
     "data": {
      "image/png": "[encoded data removed]",
      "text/plain": [
       "<Figure size 432x288 with 1 Axes>"
      ]
     },
     "metadata": {
      "needs_background": "light"
     },
     "output_type": "display_data"
    }
   ],
   "source": [
    "# Adjusting for Skewness\n",
    "train[\"SalePrice\"] = np.log1p(train[\"SalePrice\"])\n",
    "y_train = train['SalePrice'].reset_index(drop=True)\n",
    "\n",
    "train['SalePrice'].hist(bins = 40)"
   ]
  },
  {
   "cell_type": "code",
   "execution_count": 238,
   "metadata": {
    "execution": {
     "iopub.execute_input": "2021-06-01T20:40:11.269231Z",
     "iopub.status.busy": "2021-06-01T20:40:11.268928Z",
     "iopub.status.idle": "2021-06-01T20:40:11.294059Z",
     "shell.execute_reply": "2021-06-01T20:40:11.292903Z",
     "shell.execute_reply.started": "2021-06-01T20:40:11.269202Z"
    }
   },
   "outputs": [],
   "source": [
    "# Concat Testing part of both Train and Test and split SalePrice from Train data for Training\n",
    "train_data = train.drop(['SalePrice'], axis=1)\n",
    "total_data = pd.concat([train_data, test]).reset_index(drop=True)"
   ]
  },
  {
   "cell_type": "code",
   "execution_count": 239,
   "metadata": {
    "execution": {
     "iopub.execute_input": "2021-06-01T20:40:11.295709Z",
     "iopub.status.busy": "2021-06-01T20:40:11.295404Z",
     "iopub.status.idle": "2021-06-01T20:40:11.301376Z",
     "shell.execute_reply": "2021-06-01T20:40:11.300573Z",
     "shell.execute_reply.started": "2021-06-01T20:40:11.295681Z"
    }
   },
   "outputs": [
    {
     "data": {
      "text/plain": [
       "(2917, 79)"
      ]
     },
     "execution_count": 239,
     "metadata": {},
     "output_type": "execute_result"
    }
   ],
   "source": [
    "# Total data is full data to be used for EDA\n",
    "total_data.shape"
   ]
  },
  {
   "cell_type": "code",
   "execution_count": 240,
   "metadata": {
    "execution": {
     "iopub.execute_input": "2021-06-01T20:40:11.303420Z",
     "iopub.status.busy": "2021-06-01T20:40:11.303109Z",
     "iopub.status.idle": "2021-06-01T20:40:11.331539Z",
     "shell.execute_reply": "2021-06-01T20:40:11.330679Z",
     "shell.execute_reply.started": "2021-06-01T20:40:11.303379Z"
    }
   },
   "outputs": [
    {
     "name": "stdout",
     "output_type": "stream",
     "text": [
      "columns containing missing values = 34\n"
     ]
    }
   ],
   "source": [
    "print('columns containing missing values =',total_data.isnull().any().sum())"
   ]
  },
  {
   "cell_type": "code",
   "execution_count": 241,
   "metadata": {
    "execution": {
     "iopub.execute_input": "2021-06-01T20:40:11.415660Z",
     "iopub.status.busy": "2021-06-01T20:40:11.415306Z",
     "iopub.status.idle": "2021-06-01T20:40:11.890368Z",
     "shell.execute_reply": "2021-06-01T20:40:11.889534Z",
     "shell.execute_reply.started": "2021-06-01T20:40:11.415630Z"
    }
   },
   "outputs": [
    {
     "name": "stdout",
     "output_type": "stream",
     "text": [
      "                 0\n",
      "PoolQC        2908\n",
      "MiscFeature   2812\n",
      "Alley         2719\n",
      "Fence         2346\n",
      "FireplaceQu   1420\n",
      "LotFrontage    486\n",
      "GarageYrBlt    159\n",
      "GarageFinish   159\n",
      "GarageQual     159\n",
      "GarageCond     159\n",
      "GarageType     157\n",
      "BsmtExposure    82\n",
      "BsmtCond        82\n",
      "BsmtQual        81\n",
      "BsmtFinType2    80\n",
      "BsmtFinType1    79\n",
      "MasVnrType      24\n",
      "MasVnrArea      23\n",
      "MSZoning         4\n",
      "Functional       2\n",
      "BsmtHalfBath     2\n",
      "BsmtFullBath     2\n",
      "Utilities        2\n",
      "SaleType         1\n",
      "BsmtFinSF1       1\n",
      "KitchenQual      1\n",
      "GarageCars       1\n",
      "BsmtUnfSF        1\n",
      "TotalBsmtSF      1\n",
      "Exterior2nd      1\n",
      "Exterior1st      1\n",
      "GarageArea       1\n",
      "Electrical       1\n",
      "BsmtFinSF2       1\n"
     ]
    },
    {
     "data": {
      "image/png": "[encoded data removed]",
      "text/plain": [
       "<Figure size 1440x720 with 1 Axes>"
      ]
     },
     "metadata": {
      "needs_background": "light"
     },
     "output_type": "display_data"
    }
   ],
   "source": [
    "# Finding missing values to plot a Graph\n",
    "missing_counts = pd.DataFrame(total_data.isnull().sum().sort_values(ascending=False))\n",
    "missing_columns = missing_counts[missing_counts.iloc[:,0]>0]\n",
    "# Plotting Missing Values\n",
    "plt.figure(figsize=(20,10))\n",
    "missing_columns = missing_counts[missing_counts.iloc[:,0]>0]\n",
    "sns.barplot(x=missing_columns.index,y=missing_columns.iloc[:,0])\n",
    "plt.xticks(rotation=90)\n",
    "print(missing_columns)\n",
    "plt.show()"
   ]
  },
  {
   "cell_type": "code",
   "execution_count": 242,
   "metadata": {
    "execution": {
     "iopub.execute_input": "2021-06-01T20:40:11.893003Z",
     "iopub.status.busy": "2021-06-01T20:40:11.892680Z",
     "iopub.status.idle": "2021-06-01T20:40:11.919301Z",
     "shell.execute_reply": "2021-06-01T20:40:11.918138Z",
     "shell.execute_reply.started": "2021-06-01T20:40:11.892960Z"
    }
   },
   "outputs": [],
   "source": [
    "# Some of the non-numeric predictors are stored as numbers; we convert them into strings \n",
    "total_data['MSSubClass'] = total_data['MSSubClass'].apply(str)\n",
    "total_data['YrSold'] = total_data['YrSold'].astype(str)\n",
    "total_data['MoSold'] = total_data['MoSold'].astype(str)\n",
    "\n",
    "# Fixing columns : filling Null values with suitable values in columns\n",
    "total_data['Functional'] = total_data['Functional'].fillna('Typ')\n",
    "total_data['Electrical'] = total_data['Electrical'].fillna(\"SBrkr\")\n",
    "total_data['KitchenQual'] = total_data['KitchenQual'].fillna(\"TA\")\n",
    "total_data['Exterior1st'] = total_data['Exterior1st'].fillna(total_data['Exterior1st'].mode()[0])\n",
    "total_data['Exterior2nd'] = total_data['Exterior2nd'].fillna(total_data['Exterior2nd'].mode()[0])\n",
    "total_data['SaleType'] = total_data['SaleType'].fillna(total_data['SaleType'].mode()[0])\n",
    "total_data[\"PoolQC\"] = total_data[\"PoolQC\"].fillna(\"None\")"
   ]
  },
  {
   "cell_type": "code",
   "execution_count": 243,
   "metadata": {
    "execution": {
     "iopub.execute_input": "2021-06-01T20:40:11.921423Z",
     "iopub.status.busy": "2021-06-01T20:40:11.921009Z",
     "iopub.status.idle": "2021-06-01T20:40:11.940863Z",
     "shell.execute_reply": "2021-06-01T20:40:11.939651Z",
     "shell.execute_reply.started": "2021-06-01T20:40:11.921368Z"
    }
   },
   "outputs": [],
   "source": [
    "# Filling columns with Mode and Median values\n",
    "total_data[\"LotFrontage\"].fillna(total_data[\"LotFrontage\"].median(),inplace=True)\n",
    "total_data[\"MSZoning\"].fillna(total_data[\"MSZoning\"].mode(),inplace=True)"
   ]
  },
  {
   "cell_type": "code",
   "execution_count": 244,
   "metadata": {
    "execution": {
     "iopub.execute_input": "2021-06-01T20:40:11.942869Z",
     "iopub.status.busy": "2021-06-01T20:40:11.942417Z",
     "iopub.status.idle": "2021-06-01T20:40:11.961046Z",
     "shell.execute_reply": "2021-06-01T20:40:11.959917Z",
     "shell.execute_reply.started": "2021-06-01T20:40:11.942826Z"
    }
   },
   "outputs": [],
   "source": [
    "# Filling some columns Nan values with 0's\n",
    "\n",
    "for item in ('GarageYrBlt', 'GarageArea', 'GarageCars'):\n",
    "    total_data[item] = total_data[item].fillna(0)\n",
    "\n",
    "# Filling categorial columns Nan Values with 'None'\n",
    "\n",
    "for item in ['GarageType', 'GarageFinish', 'GarageQual', 'GarageCond','BsmtQual', 'BsmtCond', 'BsmtExposure', 'BsmtFinType1', 'BsmtFinType2']:\n",
    "    total_data[item] = total_data[item].fillna('None')"
   ]
  },
  {
   "cell_type": "code",
   "execution_count": 245,
   "metadata": {
    "execution": {
     "iopub.execute_input": "2021-06-01T20:40:11.965041Z",
     "iopub.status.busy": "2021-06-01T20:40:11.964719Z",
     "iopub.status.idle": "2021-06-01T20:40:12.034472Z",
     "shell.execute_reply": "2021-06-01T20:40:12.033458Z",
     "shell.execute_reply.started": "2021-06-01T20:40:11.965012Z"
    }
   },
   "outputs": [],
   "source": [
    "# Filling remaining Object type columns Nan values with None\n",
    "objects = []\n",
    "for i in total_data.columns:\n",
    "    if total_data[i].dtype == object:\n",
    "        objects.append(i)\n",
    "total_data.update(total_data[objects].fillna('None'))"
   ]
  },
  {
   "cell_type": "code",
   "execution_count": 246,
   "metadata": {
    "execution": {
     "iopub.execute_input": "2021-06-01T20:40:12.036429Z",
     "iopub.status.busy": "2021-06-01T20:40:12.036135Z",
     "iopub.status.idle": "2021-06-01T20:40:12.330528Z",
     "shell.execute_reply": "2021-06-01T20:40:12.329520Z",
     "shell.execute_reply.started": "2021-06-01T20:40:12.036401Z"
    }
   },
   "outputs": [],
   "source": [
    "# Filling remaining Numerical type columns with 0 values\n",
    "numerical = total_data.select_dtypes(include=np.number).columns.tolist()\n",
    "for i in numerical:\n",
    "    total_data.update(total_data[i].fillna(0))"
   ]
  },
  {
   "cell_type": "markdown",
   "metadata": {},
   "source": [
    "Data Engineering"
   ]
  },
  {
   "cell_type": "code",
   "execution_count": 247,
   "metadata": {
    "execution": {
     "iopub.execute_input": "2021-06-01T20:40:12.332036Z",
     "iopub.status.busy": "2021-06-01T20:40:12.331749Z",
     "iopub.status.idle": "2021-06-01T20:40:12.338434Z",
     "shell.execute_reply": "2021-06-01T20:40:12.337412Z",
     "shell.execute_reply.started": "2021-06-01T20:40:12.332009Z"
    }
   },
   "outputs": [],
   "source": [
    "# Dropping unwanted columns\n",
    "total_data = total_data.drop(['Utilities', 'Street', 'PoolQC',], axis=1)"
   ]
  },
  {
   "cell_type": "code",
   "execution_count": 248,
   "metadata": {
    "execution": {
     "iopub.execute_input": "2021-06-01T20:40:12.340445Z",
     "iopub.status.busy": "2021-06-01T20:40:12.340170Z",
     "iopub.status.idle": "2021-06-01T20:40:12.361461Z",
     "shell.execute_reply": "2021-06-01T20:40:12.360584Z",
     "shell.execute_reply.started": "2021-06-01T20:40:12.340419Z"
    }
   },
   "outputs": [],
   "source": [
    "# Engineered new columns \n",
    "total_data['YrBltAndRemod']=total_data['YearBuilt']+total_data['YearRemodAdd']\n",
    "total_data['TotalSF']=total_data['TotalBsmtSF'] + total_data['1stFlrSF'] + total_data['2ndFlrSF']\n",
    "\n",
    "total_data['Total_sqr_footage'] = (total_data['BsmtFinSF1'] + total_data['BsmtFinSF2'] +\n",
    "                                 total_data['1stFlrSF'] + total_data['2ndFlrSF'])\n",
    "\n",
    "total_data['Total_Bathrooms'] = (total_data['FullBath'] + (0.5 * total_data['HalfBath']) +\n",
    "                               total_data['BsmtFullBath'] + (0.5 * total_data['BsmtHalfBath']))\n",
    "\n",
    "total_data['Total_porch_sf'] = (total_data['OpenPorchSF'] + total_data['3SsnPorch'] +\n",
    "                              total_data['EnclosedPorch'] + total_data['ScreenPorch'] +\n",
    "                              total_data['WoodDeckSF'])"
   ]
  },
  {
   "cell_type": "code",
   "execution_count": 249,
   "metadata": {
    "execution": {
     "iopub.execute_input": "2021-06-01T20:40:12.362888Z",
     "iopub.status.busy": "2021-06-01T20:40:12.362456Z",
     "iopub.status.idle": "2021-06-01T20:40:12.382449Z",
     "shell.execute_reply": "2021-06-01T20:40:12.381677Z",
     "shell.execute_reply.started": "2021-06-01T20:40:12.362858Z"
    }
   },
   "outputs": [],
   "source": [
    "# Simplifying Features\n",
    "total_data['haspool'] = total_data['PoolArea'].apply(lambda x: 1 if x > 0 else 0)\n",
    "total_data['has2ndfloor'] = total_data['2ndFlrSF'].apply(lambda x: 1 if x > 0 else 0)\n",
    "total_data['hasgarage'] = total_data['GarageArea'].apply(lambda x: 1 if x > 0 else 0)\n",
    "total_data['hasbsmt'] = total_data['TotalBsmtSF'].apply(lambda x: 1 if x > 0 else 0)\n",
    "total_data['hasfireplace'] = total_data['Fireplaces'].apply(lambda x: 1 if x > 0 else 0)"
   ]
  },
  {
   "cell_type": "code",
   "execution_count": 250,
   "metadata": {
    "execution": {
     "iopub.execute_input": "2021-06-01T20:40:12.384520Z",
     "iopub.status.busy": "2021-06-01T20:40:12.384114Z",
     "iopub.status.idle": "2021-06-01T20:40:12.448195Z",
     "shell.execute_reply": "2021-06-01T20:40:12.447456Z",
     "shell.execute_reply.started": "2021-06-01T20:40:12.384480Z"
    }
   },
   "outputs": [
    {
     "name": "stdout",
     "output_type": "stream",
     "text": [
      "(2917, 86)\n",
      "(2917, 334)\n"
     ]
    }
   ],
   "source": [
    "# Adding pandas dummy values to encode features\n",
    "print(total_data.shape)\n",
    "final_data = pd.get_dummies(total_data).reset_index(drop=True)\n",
    "print(final_data.shape)"
   ]
  },
  {
   "cell_type": "code",
   "execution_count": 251,
   "metadata": {
    "execution": {
     "iopub.execute_input": "2021-06-01T20:40:12.449717Z",
     "iopub.status.busy": "2021-06-01T20:40:12.449259Z",
     "iopub.status.idle": "2021-06-01T20:40:12.457272Z",
     "shell.execute_reply": "2021-06-01T20:40:12.456287Z",
     "shell.execute_reply.started": "2021-06-01T20:40:12.449682Z"
    }
   },
   "outputs": [
    {
     "name": "stdout",
     "output_type": "stream",
     "text": [
      "x_train (1458, 334)\n",
      "y_train (1458,)\n",
      "x_test (1459, 334)\n"
     ]
    }
   ],
   "source": [
    "# Splitting Train and test values now with help of variable 'y' \n",
    "x_train = final_data.iloc[:len(y_train), :]\n",
    "x_test = final_data.iloc[len(x_train):, :]\n",
    "\n",
    "print('x_train', x_train.shape)\n",
    "print('y_train', y_train.shape)\n",
    "print('x_test', x_test.shape)"
   ]
  },
  {
   "cell_type": "code",
   "execution_count": 252,
   "metadata": {
    "execution": {
     "iopub.execute_input": "2021-06-01T20:40:12.459152Z",
     "iopub.status.busy": "2021-06-01T20:40:12.458747Z",
     "iopub.status.idle": "2021-06-01T20:40:12.665040Z",
     "shell.execute_reply": "2021-06-01T20:40:12.664270Z",
     "shell.execute_reply.started": "2021-06-01T20:40:12.459110Z"
    }
   },
   "outputs": [
    {
     "name": "stdout",
     "output_type": "stream",
     "text": [
      "X_train (1458, 331)\n",
      "Y_train (1458,)\n",
      "X_test (1459, 331)\n"
     ]
    }
   ],
   "source": [
    "# Removing Overfitting features\n",
    "overfit = []\n",
    "for i in x_train.columns:\n",
    "    counts = x_train[i].value_counts()\n",
    "    zeros = counts.iloc[0]\n",
    "    if zeros / len(x_train) * 100 > 99.94:\n",
    "        overfit.append(i)\n",
    "\n",
    "overfit = list(overfit)\n",
    "# MSZoning_C have an extra field added in data \n",
    "overfit.append('MSZoning_C (all)')\n",
    "\n",
    "X_train = x_train.drop(overfit, axis=1).copy()\n",
    "X_test = x_test.drop(overfit, axis=1).copy()\n",
    "Y_train = y_train.copy()\n",
    "\n",
    "print('X_train', X_train.shape)\n",
    "print('Y_train', Y_train.shape)\n",
    "print('X_test', X_test.shape)"
   ]
  },
  {
   "cell_type": "markdown",
   "metadata": {},
   "source": [
    "Trying a Neural network model on above"
   ]
  },
  {
   "cell_type": "code",
   "execution_count": 253,
   "metadata": {
    "execution": {
     "iopub.execute_input": "2021-06-01T20:40:12.666903Z",
     "iopub.status.busy": "2021-06-01T20:40:12.666450Z",
     "iopub.status.idle": "2021-06-01T20:40:12.678407Z",
     "shell.execute_reply": "2021-06-01T20:40:12.677353Z",
     "shell.execute_reply.started": "2021-06-01T20:40:12.666873Z"
    }
   },
   "outputs": [
    {
     "name": "stdout",
     "output_type": "stream",
     "text": [
      "x_train1 (1166, 331)\n",
      "y_train1 (1166,)\n",
      "x_test1 (292, 331)\n",
      "y_test1 (292,)\n"
     ]
    }
   ],
   "source": [
    "from sklearn.model_selection import train_test_split\n",
    "x_train1,x_test1,y_train1,y_test1=train_test_split(X_train,Y_train,test_size=.20,random_state=40)\n",
    "print('x_train1', x_train1.shape)\n",
    "print('y_train1', y_train1.shape)\n",
    "print('x_test1', x_test1.shape)\n",
    "print('y_test1', y_test1.shape)"
   ]
  },
  {
   "cell_type": "code",
   "execution_count": 254,
   "metadata": {
    "execution": {
     "iopub.execute_input": "2021-06-01T20:40:12.680147Z",
     "iopub.status.busy": "2021-06-01T20:40:12.679858Z",
     "iopub.status.idle": "2021-06-01T20:40:12.685705Z",
     "shell.execute_reply": "2021-06-01T20:40:12.684640Z",
     "shell.execute_reply.started": "2021-06-01T20:40:12.680119Z"
    }
   },
   "outputs": [],
   "source": [
    "# Learning rate\n",
    "learning_rate = 0.1\n",
    "\n",
    "# Epoch  \n",
    "epochs = 400\n",
    "\n",
    "# Batch size\n",
    "batch_size = 5"
   ]
  },
  {
   "cell_type": "code",
   "execution_count": 255,
   "metadata": {
    "execution": {
     "iopub.execute_input": "2021-06-01T20:40:12.687276Z",
     "iopub.status.busy": "2021-06-01T20:40:12.686997Z",
     "iopub.status.idle": "2021-06-01T20:40:12.724985Z",
     "shell.execute_reply": "2021-06-01T20:40:12.723956Z",
     "shell.execute_reply.started": "2021-06-01T20:40:12.687250Z"
    }
   },
   "outputs": [],
   "source": [
    "# Sequential Model\n",
    "from keras.models import Sequential\n",
    "from keras.layers import Dense\n",
    "\n",
    "model = Sequential()\n",
    "model.add(Dense(118, activation='relu', kernel_initializer='normal', input_dim = 331))\n",
    "model.add(Dense(59, activation='relu'))\n",
    "model.add(Dense(1, kernel_initializer='normal'))"
   ]
  },
  {
   "cell_type": "code",
   "execution_count": 256,
   "metadata": {
    "execution": {
     "iopub.execute_input": "2021-06-01T20:40:13.661047Z",
     "iopub.status.busy": "2021-06-01T20:40:13.660658Z",
     "iopub.status.idle": "2021-06-01T20:40:13.673271Z",
     "shell.execute_reply": "2021-06-01T20:40:13.672211Z",
     "shell.execute_reply.started": "2021-06-01T20:40:13.661016Z"
    }
   },
   "outputs": [],
   "source": [
    "# Complie the model\n",
    "\n",
    "model.compile(loss='mean_squared_error', optimizer = 'adam')"
   ]
  },
  {
   "cell_type": "code",
   "execution_count": 257,
   "metadata": {
    "execution": {
     "iopub.execute_input": "2021-06-01T20:40:13.883240Z",
     "iopub.status.busy": "2021-06-01T20:40:13.882714Z",
     "iopub.status.idle": "2021-06-01T20:40:13.890157Z",
     "shell.execute_reply": "2021-06-01T20:40:13.888736Z",
     "shell.execute_reply.started": "2021-06-01T20:40:13.883200Z"
    }
   },
   "outputs": [
    {
     "name": "stdout",
     "output_type": "stream",
     "text": [
      "Model: \"sequential_6\"\n",
      "_________________________________________________________________\n",
      "Layer (type)                 Output Shape              Param #   \n",
      "=================================================================\n",
      "dense_18 (Dense)             (None, 118)               39176     \n",
      "_________________________________________________________________\n",
      "dense_19 (Dense)             (None, 59)                7021      \n",
      "_________________________________________________________________\n",
      "dense_20 (Dense)             (None, 1)                 60        \n",
      "=================================================================\n",
      "Total params: 46,257\n",
      "Trainable params: 46,257\n",
      "Non-trainable params: 0\n",
      "_________________________________________________________________\n"
     ]
    }
   ],
   "source": [
    "# Model summary \n",
    "model.summary()"
   ]
  },
  {
   "cell_type": "code",
   "execution_count": 258,
   "metadata": {
    "execution": {
     "iopub.execute_input": "2021-06-01T20:40:14.050101Z",
     "iopub.status.busy": "2021-06-01T20:40:14.049701Z",
     "iopub.status.idle": "2021-06-01T20:41:46.271117Z",
     "shell.execute_reply": "2021-06-01T20:41:46.270051Z",
     "shell.execute_reply.started": "2021-06-01T20:40:14.050069Z"
    }
   },
   "outputs": [],
   "source": [
    "# Model Training\n",
    "\n",
    "history = model.fit(\n",
    "    x_train1,\n",
    "    y_train1,\n",
    "    batch_size=batch_size,\n",
    "    epochs=epochs,\n",
    "    verbose = 0\n",
    ")"
   ]
  },
  {
   "cell_type": "code",
   "execution_count": 259,
   "metadata": {
    "execution": {
     "iopub.execute_input": "2021-06-01T20:41:46.273770Z",
     "iopub.status.busy": "2021-06-01T20:41:46.273338Z",
     "iopub.status.idle": "2021-06-01T20:41:46.442683Z",
     "shell.execute_reply": "2021-06-01T20:41:46.441654Z",
     "shell.execute_reply.started": "2021-06-01T20:41:46.273726Z"
    }
   },
   "outputs": [
    {
     "name": "stdout",
     "output_type": "stream",
     "text": [
      "206276.23178699534\n",
      "197208.18395832292\n"
     ]
    }
   ],
   "source": [
    "# Prediction on train and test data \n",
    "from sklearn.metrics import mean_squared_error\n",
    "pred_train= np.expm1(model.predict(x_train1))\n",
    "pred_test= np.expm1(model.predict(x_test1))\n",
    "\n",
    "# Printing RMSE with train and test data\n",
    "print(np.sqrt(mean_squared_error(y_train1,pred_train)))\n",
    "print(np.sqrt(mean_squared_error(y_test1,pred_test))) "
   ]
  },
  {
   "cell_type": "code",
   "execution_count": 260,
   "metadata": {
    "execution": {
     "iopub.execute_input": "2021-06-01T20:41:46.444144Z",
     "iopub.status.busy": "2021-06-01T20:41:46.443889Z",
     "iopub.status.idle": "2021-06-01T20:41:46.450900Z",
     "shell.execute_reply": "2021-06-01T20:41:46.449782Z",
     "shell.execute_reply.started": "2021-06-01T20:41:46.444119Z"
    }
   },
   "outputs": [
    {
     "data": {
      "text/plain": [
       "-265757795737.5163"
      ]
     },
     "execution_count": 260,
     "metadata": {},
     "output_type": "execute_result"
    }
   ],
   "source": [
    "# R square score for the model\n",
    "from sklearn.metrics import r2_score\n",
    "r_square = r2_score(y_test1, pred_test)\n",
    "r_square"
   ]
  },
  {
   "cell_type": "code",
   "execution_count": 261,
   "metadata": {
    "execution": {
     "iopub.execute_input": "2021-06-01T20:41:46.453077Z",
     "iopub.status.busy": "2021-06-01T20:41:46.452661Z",
     "iopub.status.idle": "2021-06-01T20:41:46.557529Z",
     "shell.execute_reply": "2021-06-01T20:41:46.556571Z",
     "shell.execute_reply.started": "2021-06-01T20:41:46.453034Z"
    }
   },
   "outputs": [],
   "source": [
    "#here we predict SalePrice using NN Model\n",
    "submission = pd.read_csv(\"../input/house-prices-advanced-regression-techniques/sample_submission.csv\")\n",
    "submission.iloc[:,1] = (np.expm1(model.predict(X_test)))"
   ]
  },
  {
   "cell_type": "code",
   "execution_count": 262,
   "metadata": {
    "execution": {
     "iopub.execute_input": "2021-06-01T20:41:46.560573Z",
     "iopub.status.busy": "2021-06-01T20:41:46.560141Z",
     "iopub.status.idle": "2021-06-01T20:41:46.570828Z",
     "shell.execute_reply": "2021-06-01T20:41:46.569870Z",
     "shell.execute_reply.started": "2021-06-01T20:41:46.560528Z"
    }
   },
   "outputs": [
    {
     "data": {
      "text/html": [
       "<div>\n",
       "<style scoped>\n",
       "    .dataframe tbody tr th:only-of-type {\n",
       "        vertical-align: middle;\n",
       "    }\n",
       "\n",
       "    .dataframe tbody tr th {\n",
       "        vertical-align: top;\n",
       "    }\n",
       "\n",
       "    .dataframe thead th {\n",
       "        text-align: right;\n",
       "    }\n",
       "</style>\n",
       "<table border=\"1\" class=\"dataframe\">\n",
       "  <thead>\n",
       "    <tr style=\"text-align: right;\">\n",
       "      <th></th>\n",
       "      <th>Id</th>\n",
       "      <th>SalePrice</th>\n",
       "    </tr>\n",
       "  </thead>\n",
       "  <tbody>\n",
       "    <tr>\n",
       "      <th>0</th>\n",
       "      <td>1461</td>\n",
       "      <td>120764.140625</td>\n",
       "    </tr>\n",
       "    <tr>\n",
       "      <th>1</th>\n",
       "      <td>1462</td>\n",
       "      <td>208239.812500</td>\n",
       "    </tr>\n",
       "    <tr>\n",
       "      <th>2</th>\n",
       "      <td>1463</td>\n",
       "      <td>196829.796875</td>\n",
       "    </tr>\n",
       "    <tr>\n",
       "      <th>3</th>\n",
       "      <td>1464</td>\n",
       "      <td>203314.281250</td>\n",
       "    </tr>\n",
       "    <tr>\n",
       "      <th>4</th>\n",
       "      <td>1465</td>\n",
       "      <td>173891.843750</td>\n",
       "    </tr>\n",
       "  </tbody>\n",
       "</table>\n",
       "</div>"
      ],
      "text/plain": [
       "     Id      SalePrice\n",
       "0  1461  120764.140625\n",
       "1  1462  208239.812500\n",
       "2  1463  196829.796875\n",
       "3  1464  203314.281250\n",
       "4  1465  173891.843750"
      ]
     },
     "execution_count": 262,
     "metadata": {},
     "output_type": "execute_result"
    }
   ],
   "source": [
    "# Output\n",
    "submission.head()"
   ]
  },
  {
   "cell_type": "code",
   "execution_count": 263,
   "metadata": {
    "execution": {
     "iopub.execute_input": "2021-06-01T20:41:46.573246Z",
     "iopub.status.busy": "2021-06-01T20:41:46.572841Z",
     "iopub.status.idle": "2021-06-01T20:41:46.588015Z",
     "shell.execute_reply": "2021-06-01T20:41:46.587128Z",
     "shell.execute_reply.started": "2021-06-01T20:41:46.573204Z"
    }
   },
   "outputs": [],
   "source": [
    "# Submission\n",
    "submission.to_csv(\"submission.csv\", index=False)"
   ]
  },
  {
   "cell_type": "code",
   "execution_count": null,
   "metadata": {},
   "outputs": [],
   "source": [
    "# Still have to implement XGBoost and Ensembler model - WIP"
   ]
  },
  {
   "cell_type": "code",
   "execution_count": null,
   "metadata": {},
   "outputs": [],
   "source": []
  },
  {
   "cell_type": "code",
   "execution_count": null,
   "metadata": {},
   "outputs": [],
   "source": []
  }
 ],
 "metadata": {
  "kernelspec": {
   "display_name": "Python 3",
   "language": "python",
   "name": "python3"
  },
  "language_info": {
   "codemirror_mode": {
    "name": "ipython",
    "version": 3
   },
   "file_extension": ".py",
   "mimetype": "text/x-python",
   "name": "python",
   "nbconvert_exporter": "python",
   "pygments_lexer": "ipython3",
   "version": "3.8.5"
  }
 },
 "nbformat": 4,
 "nbformat_minor": 4
}

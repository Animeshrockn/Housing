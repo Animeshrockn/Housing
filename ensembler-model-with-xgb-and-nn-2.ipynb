{
 "cells": [
  {
   "cell_type": "code",
   "execution_count": 1,
   "id": "economic-sharp",
   "metadata": {
    "_cell_guid": "b1076dfc-b9ad-4769-8c92-a6c4dae69d19",
    "_uuid": "8f2839f25d086af736a60e9eeb907d3b93b6e0e5",
    "execution": {
     "iopub.execute_input": "2021-06-04T12:21:16.299932Z",
     "iopub.status.busy": "2021-06-04T12:21:16.298760Z",
     "iopub.status.idle": "2021-06-04T12:21:16.310520Z",
     "shell.execute_reply": "2021-06-04T12:21:16.311225Z",
     "shell.execute_reply.started": "2021-06-04T12:18:55.604310Z"
    },
    "papermill": {
     "duration": 0.053981,
     "end_time": "2021-06-04T12:21:16.311618",
     "exception": false,
     "start_time": "2021-06-04T12:21:16.257637",
     "status": "completed"
    },
    "tags": []
   },
   "outputs": [
    {
     "name": "stdout",
     "output_type": "stream",
     "text": [
      "/kaggle/input/house-prices-advanced-regression-techniques/sample_submission.csv\n",
      "/kaggle/input/house-prices-advanced-regression-techniques/data_description.txt\n",
      "/kaggle/input/house-prices-advanced-regression-techniques/train.csv\n",
      "/kaggle/input/house-prices-advanced-regression-techniques/test.csv\n"
     ]
    }
   ],
   "source": [
    "# This Python 3 environment comes with many helpful analytics libraries installed\n",
    "# It is defined by the kaggle/python Docker image: https://github.com/kaggle/docker-python\n",
    "# For example, here's several helpful packages to load\n",
    "\n",
    "import numpy as np # linear algebra\n",
    "import pandas as pd # data processing, CSV file I/O (e.g. pd.read_csv)\n",
    "\n",
    "# Input data files are available in the read-only \"../input/\" directory\n",
    "# For example, running this (by clicking run or pressing Shift+Enter) will list all files under the input directory\n",
    "\n",
    "import os\n",
    "for dirname, _, filenames in os.walk('/kaggle/input'):\n",
    "    for filename in filenames:\n",
    "        print(os.path.join(dirname, filename))\n",
    "\n",
    "# You can write up to 20GB to the current directory (/kaggle/working/) that gets preserved as output when you create a version using \"Save & Run All\" \n",
    "# You can also write temporary files to /kaggle/temp/, but they won't be saved outside of the current session"
   ]
  },
  {
   "cell_type": "code",
   "execution_count": 2,
   "id": "swedish-integrity",
   "metadata": {
    "execution": {
     "iopub.execute_input": "2021-06-04T12:21:16.387712Z",
     "iopub.status.busy": "2021-06-04T12:21:16.387083Z",
     "iopub.status.idle": "2021-06-04T12:21:17.577800Z",
     "shell.execute_reply": "2021-06-04T12:21:17.578309Z",
     "shell.execute_reply.started": "2021-06-04T12:18:55.614930Z"
    },
    "papermill": {
     "duration": 1.229724,
     "end_time": "2021-06-04T12:21:17.578495",
     "exception": false,
     "start_time": "2021-06-04T12:21:16.348771",
     "status": "completed"
    },
    "tags": []
   },
   "outputs": [],
   "source": [
    "import numpy as np \n",
    "import pandas as pd\n",
    "import matplotlib.pyplot as plt\n",
    "import seaborn as sns\n",
    "from xgboost import XGBRegressor\n",
    "from sklearn.model_selection import cross_val_score\n",
    "from sklearn.model_selection import KFold\n",
    "from numpy import absolute\n",
    "import warnings\n",
    "warnings.filterwarnings('ignore')"
   ]
  },
  {
   "cell_type": "markdown",
   "id": "mexican-washer",
   "metadata": {
    "papermill": {
     "duration": 0.035962,
     "end_time": "2021-06-04T12:21:17.651762",
     "exception": false,
     "start_time": "2021-06-04T12:21:17.615800",
     "status": "completed"
    },
    "tags": []
   },
   "source": [
    "Data Analysis"
   ]
  },
  {
   "cell_type": "code",
   "execution_count": 3,
   "id": "durable-nudist",
   "metadata": {
    "execution": {
     "iopub.execute_input": "2021-06-04T12:21:17.727947Z",
     "iopub.status.busy": "2021-06-04T12:21:17.727290Z",
     "iopub.status.idle": "2021-06-04T12:21:17.807978Z",
     "shell.execute_reply": "2021-06-04T12:21:17.808451Z",
     "shell.execute_reply.started": "2021-06-04T12:18:55.733456Z"
    },
    "papermill": {
     "duration": 0.12087,
     "end_time": "2021-06-04T12:21:17.808649",
     "exception": false,
     "start_time": "2021-06-04T12:21:17.687779",
     "status": "completed"
    },
    "tags": []
   },
   "outputs": [
    {
     "data": {
      "text/html": [
       "<div>\n",
       "<style scoped>\n",
       "    .dataframe tbody tr th:only-of-type {\n",
       "        vertical-align: middle;\n",
       "    }\n",
       "\n",
       "    .dataframe tbody tr th {\n",
       "        vertical-align: top;\n",
       "    }\n",
       "\n",
       "    .dataframe thead th {\n",
       "        text-align: right;\n",
       "    }\n",
       "</style>\n",
       "<table border=\"1\" class=\"dataframe\">\n",
       "  <thead>\n",
       "    <tr style=\"text-align: right;\">\n",
       "      <th></th>\n",
       "      <th>Id</th>\n",
       "      <th>MSSubClass</th>\n",
       "      <th>MSZoning</th>\n",
       "      <th>LotFrontage</th>\n",
       "      <th>LotArea</th>\n",
       "      <th>Street</th>\n",
       "      <th>Alley</th>\n",
       "      <th>LotShape</th>\n",
       "      <th>LandContour</th>\n",
       "      <th>Utilities</th>\n",
       "      <th>...</th>\n",
       "      <th>PoolArea</th>\n",
       "      <th>PoolQC</th>\n",
       "      <th>Fence</th>\n",
       "      <th>MiscFeature</th>\n",
       "      <th>MiscVal</th>\n",
       "      <th>MoSold</th>\n",
       "      <th>YrSold</th>\n",
       "      <th>SaleType</th>\n",
       "      <th>SaleCondition</th>\n",
       "      <th>SalePrice</th>\n",
       "    </tr>\n",
       "  </thead>\n",
       "  <tbody>\n",
       "    <tr>\n",
       "      <th>0</th>\n",
       "      <td>1</td>\n",
       "      <td>60</td>\n",
       "      <td>RL</td>\n",
       "      <td>65.0</td>\n",
       "      <td>8450</td>\n",
       "      <td>Pave</td>\n",
       "      <td>NaN</td>\n",
       "      <td>Reg</td>\n",
       "      <td>Lvl</td>\n",
       "      <td>AllPub</td>\n",
       "      <td>...</td>\n",
       "      <td>0</td>\n",
       "      <td>NaN</td>\n",
       "      <td>NaN</td>\n",
       "      <td>NaN</td>\n",
       "      <td>0</td>\n",
       "      <td>2</td>\n",
       "      <td>2008</td>\n",
       "      <td>WD</td>\n",
       "      <td>Normal</td>\n",
       "      <td>208500</td>\n",
       "    </tr>\n",
       "    <tr>\n",
       "      <th>1</th>\n",
       "      <td>2</td>\n",
       "      <td>20</td>\n",
       "      <td>RL</td>\n",
       "      <td>80.0</td>\n",
       "      <td>9600</td>\n",
       "      <td>Pave</td>\n",
       "      <td>NaN</td>\n",
       "      <td>Reg</td>\n",
       "      <td>Lvl</td>\n",
       "      <td>AllPub</td>\n",
       "      <td>...</td>\n",
       "      <td>0</td>\n",
       "      <td>NaN</td>\n",
       "      <td>NaN</td>\n",
       "      <td>NaN</td>\n",
       "      <td>0</td>\n",
       "      <td>5</td>\n",
       "      <td>2007</td>\n",
       "      <td>WD</td>\n",
       "      <td>Normal</td>\n",
       "      <td>181500</td>\n",
       "    </tr>\n",
       "    <tr>\n",
       "      <th>2</th>\n",
       "      <td>3</td>\n",
       "      <td>60</td>\n",
       "      <td>RL</td>\n",
       "      <td>68.0</td>\n",
       "      <td>11250</td>\n",
       "      <td>Pave</td>\n",
       "      <td>NaN</td>\n",
       "      <td>IR1</td>\n",
       "      <td>Lvl</td>\n",
       "      <td>AllPub</td>\n",
       "      <td>...</td>\n",
       "      <td>0</td>\n",
       "      <td>NaN</td>\n",
       "      <td>NaN</td>\n",
       "      <td>NaN</td>\n",
       "      <td>0</td>\n",
       "      <td>9</td>\n",
       "      <td>2008</td>\n",
       "      <td>WD</td>\n",
       "      <td>Normal</td>\n",
       "      <td>223500</td>\n",
       "    </tr>\n",
       "    <tr>\n",
       "      <th>3</th>\n",
       "      <td>4</td>\n",
       "      <td>70</td>\n",
       "      <td>RL</td>\n",
       "      <td>60.0</td>\n",
       "      <td>9550</td>\n",
       "      <td>Pave</td>\n",
       "      <td>NaN</td>\n",
       "      <td>IR1</td>\n",
       "      <td>Lvl</td>\n",
       "      <td>AllPub</td>\n",
       "      <td>...</td>\n",
       "      <td>0</td>\n",
       "      <td>NaN</td>\n",
       "      <td>NaN</td>\n",
       "      <td>NaN</td>\n",
       "      <td>0</td>\n",
       "      <td>2</td>\n",
       "      <td>2006</td>\n",
       "      <td>WD</td>\n",
       "      <td>Abnorml</td>\n",
       "      <td>140000</td>\n",
       "    </tr>\n",
       "    <tr>\n",
       "      <th>4</th>\n",
       "      <td>5</td>\n",
       "      <td>60</td>\n",
       "      <td>RL</td>\n",
       "      <td>84.0</td>\n",
       "      <td>14260</td>\n",
       "      <td>Pave</td>\n",
       "      <td>NaN</td>\n",
       "      <td>IR1</td>\n",
       "      <td>Lvl</td>\n",
       "      <td>AllPub</td>\n",
       "      <td>...</td>\n",
       "      <td>0</td>\n",
       "      <td>NaN</td>\n",
       "      <td>NaN</td>\n",
       "      <td>NaN</td>\n",
       "      <td>0</td>\n",
       "      <td>12</td>\n",
       "      <td>2008</td>\n",
       "      <td>WD</td>\n",
       "      <td>Normal</td>\n",
       "      <td>250000</td>\n",
       "    </tr>\n",
       "  </tbody>\n",
       "</table>\n",
       "<p>5 rows × 81 columns</p>\n",
       "</div>"
      ],
      "text/plain": [
       "   Id  MSSubClass MSZoning  LotFrontage  LotArea Street Alley LotShape  \\\n",
       "0   1          60       RL         65.0     8450   Pave   NaN      Reg   \n",
       "1   2          20       RL         80.0     9600   Pave   NaN      Reg   \n",
       "2   3          60       RL         68.0    11250   Pave   NaN      IR1   \n",
       "3   4          70       RL         60.0     9550   Pave   NaN      IR1   \n",
       "4   5          60       RL         84.0    14260   Pave   NaN      IR1   \n",
       "\n",
       "  LandContour Utilities  ... PoolArea PoolQC Fence MiscFeature MiscVal MoSold  \\\n",
       "0         Lvl    AllPub  ...        0    NaN   NaN         NaN       0      2   \n",
       "1         Lvl    AllPub  ...        0    NaN   NaN         NaN       0      5   \n",
       "2         Lvl    AllPub  ...        0    NaN   NaN         NaN       0      9   \n",
       "3         Lvl    AllPub  ...        0    NaN   NaN         NaN       0      2   \n",
       "4         Lvl    AllPub  ...        0    NaN   NaN         NaN       0     12   \n",
       "\n",
       "  YrSold  SaleType  SaleCondition  SalePrice  \n",
       "0   2008        WD         Normal     208500  \n",
       "1   2007        WD         Normal     181500  \n",
       "2   2008        WD         Normal     223500  \n",
       "3   2006        WD        Abnorml     140000  \n",
       "4   2008        WD         Normal     250000  \n",
       "\n",
       "[5 rows x 81 columns]"
      ]
     },
     "execution_count": 3,
     "metadata": {},
     "output_type": "execute_result"
    }
   ],
   "source": [
    "# Training Data\n",
    "\n",
    "train = pd.read_csv(\"../input/house-prices-advanced-regression-techniques/train.csv\")\n",
    "train.head()"
   ]
  },
  {
   "cell_type": "code",
   "execution_count": 4,
   "id": "thick-gothic",
   "metadata": {
    "execution": {
     "iopub.execute_input": "2021-06-04T12:21:17.885902Z",
     "iopub.status.busy": "2021-06-04T12:21:17.885102Z",
     "iopub.status.idle": "2021-06-04T12:21:17.946881Z",
     "shell.execute_reply": "2021-06-04T12:21:17.946293Z",
     "shell.execute_reply.started": "2021-06-04T12:18:55.862529Z"
    },
    "papermill": {
     "duration": 0.101564,
     "end_time": "2021-06-04T12:21:17.947040",
     "exception": false,
     "start_time": "2021-06-04T12:21:17.845476",
     "status": "completed"
    },
    "tags": []
   },
   "outputs": [
    {
     "data": {
      "text/html": [
       "<div>\n",
       "<style scoped>\n",
       "    .dataframe tbody tr th:only-of-type {\n",
       "        vertical-align: middle;\n",
       "    }\n",
       "\n",
       "    .dataframe tbody tr th {\n",
       "        vertical-align: top;\n",
       "    }\n",
       "\n",
       "    .dataframe thead th {\n",
       "        text-align: right;\n",
       "    }\n",
       "</style>\n",
       "<table border=\"1\" class=\"dataframe\">\n",
       "  <thead>\n",
       "    <tr style=\"text-align: right;\">\n",
       "      <th></th>\n",
       "      <th>Id</th>\n",
       "      <th>MSSubClass</th>\n",
       "      <th>MSZoning</th>\n",
       "      <th>LotFrontage</th>\n",
       "      <th>LotArea</th>\n",
       "      <th>Street</th>\n",
       "      <th>Alley</th>\n",
       "      <th>LotShape</th>\n",
       "      <th>LandContour</th>\n",
       "      <th>Utilities</th>\n",
       "      <th>...</th>\n",
       "      <th>ScreenPorch</th>\n",
       "      <th>PoolArea</th>\n",
       "      <th>PoolQC</th>\n",
       "      <th>Fence</th>\n",
       "      <th>MiscFeature</th>\n",
       "      <th>MiscVal</th>\n",
       "      <th>MoSold</th>\n",
       "      <th>YrSold</th>\n",
       "      <th>SaleType</th>\n",
       "      <th>SaleCondition</th>\n",
       "    </tr>\n",
       "  </thead>\n",
       "  <tbody>\n",
       "    <tr>\n",
       "      <th>0</th>\n",
       "      <td>1461</td>\n",
       "      <td>20</td>\n",
       "      <td>RH</td>\n",
       "      <td>80.0</td>\n",
       "      <td>11622</td>\n",
       "      <td>Pave</td>\n",
       "      <td>NaN</td>\n",
       "      <td>Reg</td>\n",
       "      <td>Lvl</td>\n",
       "      <td>AllPub</td>\n",
       "      <td>...</td>\n",
       "      <td>120</td>\n",
       "      <td>0</td>\n",
       "      <td>NaN</td>\n",
       "      <td>MnPrv</td>\n",
       "      <td>NaN</td>\n",
       "      <td>0</td>\n",
       "      <td>6</td>\n",
       "      <td>2010</td>\n",
       "      <td>WD</td>\n",
       "      <td>Normal</td>\n",
       "    </tr>\n",
       "    <tr>\n",
       "      <th>1</th>\n",
       "      <td>1462</td>\n",
       "      <td>20</td>\n",
       "      <td>RL</td>\n",
       "      <td>81.0</td>\n",
       "      <td>14267</td>\n",
       "      <td>Pave</td>\n",
       "      <td>NaN</td>\n",
       "      <td>IR1</td>\n",
       "      <td>Lvl</td>\n",
       "      <td>AllPub</td>\n",
       "      <td>...</td>\n",
       "      <td>0</td>\n",
       "      <td>0</td>\n",
       "      <td>NaN</td>\n",
       "      <td>NaN</td>\n",
       "      <td>Gar2</td>\n",
       "      <td>12500</td>\n",
       "      <td>6</td>\n",
       "      <td>2010</td>\n",
       "      <td>WD</td>\n",
       "      <td>Normal</td>\n",
       "    </tr>\n",
       "    <tr>\n",
       "      <th>2</th>\n",
       "      <td>1463</td>\n",
       "      <td>60</td>\n",
       "      <td>RL</td>\n",
       "      <td>74.0</td>\n",
       "      <td>13830</td>\n",
       "      <td>Pave</td>\n",
       "      <td>NaN</td>\n",
       "      <td>IR1</td>\n",
       "      <td>Lvl</td>\n",
       "      <td>AllPub</td>\n",
       "      <td>...</td>\n",
       "      <td>0</td>\n",
       "      <td>0</td>\n",
       "      <td>NaN</td>\n",
       "      <td>MnPrv</td>\n",
       "      <td>NaN</td>\n",
       "      <td>0</td>\n",
       "      <td>3</td>\n",
       "      <td>2010</td>\n",
       "      <td>WD</td>\n",
       "      <td>Normal</td>\n",
       "    </tr>\n",
       "    <tr>\n",
       "      <th>3</th>\n",
       "      <td>1464</td>\n",
       "      <td>60</td>\n",
       "      <td>RL</td>\n",
       "      <td>78.0</td>\n",
       "      <td>9978</td>\n",
       "      <td>Pave</td>\n",
       "      <td>NaN</td>\n",
       "      <td>IR1</td>\n",
       "      <td>Lvl</td>\n",
       "      <td>AllPub</td>\n",
       "      <td>...</td>\n",
       "      <td>0</td>\n",
       "      <td>0</td>\n",
       "      <td>NaN</td>\n",
       "      <td>NaN</td>\n",
       "      <td>NaN</td>\n",
       "      <td>0</td>\n",
       "      <td>6</td>\n",
       "      <td>2010</td>\n",
       "      <td>WD</td>\n",
       "      <td>Normal</td>\n",
       "    </tr>\n",
       "    <tr>\n",
       "      <th>4</th>\n",
       "      <td>1465</td>\n",
       "      <td>120</td>\n",
       "      <td>RL</td>\n",
       "      <td>43.0</td>\n",
       "      <td>5005</td>\n",
       "      <td>Pave</td>\n",
       "      <td>NaN</td>\n",
       "      <td>IR1</td>\n",
       "      <td>HLS</td>\n",
       "      <td>AllPub</td>\n",
       "      <td>...</td>\n",
       "      <td>144</td>\n",
       "      <td>0</td>\n",
       "      <td>NaN</td>\n",
       "      <td>NaN</td>\n",
       "      <td>NaN</td>\n",
       "      <td>0</td>\n",
       "      <td>1</td>\n",
       "      <td>2010</td>\n",
       "      <td>WD</td>\n",
       "      <td>Normal</td>\n",
       "    </tr>\n",
       "  </tbody>\n",
       "</table>\n",
       "<p>5 rows × 80 columns</p>\n",
       "</div>"
      ],
      "text/plain": [
       "     Id  MSSubClass MSZoning  LotFrontage  LotArea Street Alley LotShape  \\\n",
       "0  1461          20       RH         80.0    11622   Pave   NaN      Reg   \n",
       "1  1462          20       RL         81.0    14267   Pave   NaN      IR1   \n",
       "2  1463          60       RL         74.0    13830   Pave   NaN      IR1   \n",
       "3  1464          60       RL         78.0     9978   Pave   NaN      IR1   \n",
       "4  1465         120       RL         43.0     5005   Pave   NaN      IR1   \n",
       "\n",
       "  LandContour Utilities  ... ScreenPorch PoolArea PoolQC  Fence MiscFeature  \\\n",
       "0         Lvl    AllPub  ...         120        0    NaN  MnPrv         NaN   \n",
       "1         Lvl    AllPub  ...           0        0    NaN    NaN        Gar2   \n",
       "2         Lvl    AllPub  ...           0        0    NaN  MnPrv         NaN   \n",
       "3         Lvl    AllPub  ...           0        0    NaN    NaN         NaN   \n",
       "4         HLS    AllPub  ...         144        0    NaN    NaN         NaN   \n",
       "\n",
       "  MiscVal MoSold  YrSold  SaleType  SaleCondition  \n",
       "0       0      6    2010        WD         Normal  \n",
       "1   12500      6    2010        WD         Normal  \n",
       "2       0      3    2010        WD         Normal  \n",
       "3       0      6    2010        WD         Normal  \n",
       "4       0      1    2010        WD         Normal  \n",
       "\n",
       "[5 rows x 80 columns]"
      ]
     },
     "execution_count": 4,
     "metadata": {},
     "output_type": "execute_result"
    }
   ],
   "source": [
    "# Testing Data\n",
    "\n",
    "test = pd.read_csv(\"../input/house-prices-advanced-regression-techniques/test.csv\")\n",
    "test.head()"
   ]
  },
  {
   "cell_type": "code",
   "execution_count": 5,
   "id": "handy-circumstances",
   "metadata": {
    "execution": {
     "iopub.execute_input": "2021-06-04T12:21:18.030326Z",
     "iopub.status.busy": "2021-06-04T12:21:18.029673Z",
     "iopub.status.idle": "2021-06-04T12:21:18.036024Z",
     "shell.execute_reply": "2021-06-04T12:21:18.035534Z",
     "shell.execute_reply.started": "2021-06-04T12:18:55.914653Z"
    },
    "papermill": {
     "duration": 0.051622,
     "end_time": "2021-06-04T12:21:18.036163",
     "exception": false,
     "start_time": "2021-06-04T12:21:17.984541",
     "status": "completed"
    },
    "tags": []
   },
   "outputs": [],
   "source": [
    "# Saving ID on a new variable and Dropping ID column\n",
    "\n",
    "train_ID = train['Id']\n",
    "test_ID = test['Id']\n",
    "train.drop(['Id'], axis=1, inplace=True)\n",
    "test.drop(['Id'], axis=1, inplace=True)"
   ]
  },
  {
   "cell_type": "code",
   "execution_count": 6,
   "id": "closed-career",
   "metadata": {
    "execution": {
     "iopub.execute_input": "2021-06-04T12:21:18.115949Z",
     "iopub.status.busy": "2021-06-04T12:21:18.114889Z",
     "iopub.status.idle": "2021-06-04T12:21:18.117375Z",
     "shell.execute_reply": "2021-06-04T12:21:18.117909Z",
     "shell.execute_reply.started": "2021-06-04T12:18:55.929557Z"
    },
    "papermill": {
     "duration": 0.045142,
     "end_time": "2021-06-04T12:21:18.118090",
     "exception": false,
     "start_time": "2021-06-04T12:21:18.072948",
     "status": "completed"
    },
    "tags": []
   },
   "outputs": [],
   "source": [
    "# Plotting to find outliers \n",
    "# for items in train.columns:\n",
    "#     if len(train[items].unique()) < 20:\n",
    "#         sns.catplot(x=train[items], y=train['SalePrice'], data=train)\n",
    "#         plt.show()\n",
    "#     else:\n",
    "#         sns.scatterplot(x=train[items],y=train['SalePrice'])\n",
    "#         plt.show()"
   ]
  },
  {
   "cell_type": "code",
   "execution_count": 7,
   "id": "polish-reduction",
   "metadata": {
    "execution": {
     "iopub.execute_input": "2021-06-04T12:21:18.196422Z",
     "iopub.status.busy": "2021-06-04T12:21:18.195427Z",
     "iopub.status.idle": "2021-06-04T12:21:18.222630Z",
     "shell.execute_reply": "2021-06-04T12:21:18.221953Z",
     "shell.execute_reply.started": "2021-06-04T12:18:55.939415Z"
    },
    "papermill": {
     "duration": 0.067332,
     "end_time": "2021-06-04T12:21:18.222793",
     "exception": false,
     "start_time": "2021-06-04T12:21:18.155461",
     "status": "completed"
    },
    "tags": []
   },
   "outputs": [
    {
     "name": "stdout",
     "output_type": "stream",
     "text": [
      "(1458, 80)\n"
     ]
    }
   ],
   "source": [
    "# Removing Outlier\n",
    "train = train[train.GrLivArea < 4500]\n",
    "train.reset_index(drop=True, inplace=True)\n",
    "print(train.shape)"
   ]
  },
  {
   "cell_type": "markdown",
   "id": "turkish-salem",
   "metadata": {
    "papermill": {
     "duration": 0.037247,
     "end_time": "2021-06-04T12:21:18.297618",
     "exception": false,
     "start_time": "2021-06-04T12:21:18.260371",
     "status": "completed"
    },
    "tags": []
   },
   "source": [
    "Visualizing output data from train set"
   ]
  },
  {
   "cell_type": "code",
   "execution_count": 8,
   "id": "temporal-latvia",
   "metadata": {
    "execution": {
     "iopub.execute_input": "2021-06-04T12:21:18.377423Z",
     "iopub.status.busy": "2021-06-04T12:21:18.376666Z",
     "iopub.status.idle": "2021-06-04T12:21:18.653100Z",
     "shell.execute_reply": "2021-06-04T12:21:18.653692Z",
     "shell.execute_reply.started": "2021-06-04T12:18:55.955543Z"
    },
    "papermill": {
     "duration": 0.318934,
     "end_time": "2021-06-04T12:21:18.653855",
     "exception": false,
     "start_time": "2021-06-04T12:21:18.334921",
     "status": "completed"
    },
    "tags": []
   },
   "outputs": [
    {
     "data": {
      "text/plain": [
       "<AxesSubplot:>"
      ]
     },
     "execution_count": 8,
     "metadata": {},
     "output_type": "execute_result"
    },
    {
     "data": {
      "image/png": "[encoded data removed]",
      "text/plain": [
       "<Figure size 432x288 with 1 Axes>"
      ]
     },
     "metadata": {
      "needs_background": "light"
     },
     "output_type": "display_data"
    }
   ],
   "source": [
    "# Plotting output data for Visualization\n",
    "train['SalePrice'].hist(bins = 40)"
   ]
  },
  {
   "cell_type": "markdown",
   "id": "mediterranean-specialist",
   "metadata": {
    "papermill": {
     "duration": 0.03875,
     "end_time": "2021-06-04T12:21:18.731418",
     "exception": false,
     "start_time": "2021-06-04T12:21:18.692668",
     "status": "completed"
    },
    "tags": []
   },
   "source": [
    "Data is skewed, we will use log1p to remove the skewness in data"
   ]
  },
  {
   "cell_type": "code",
   "execution_count": 9,
   "id": "liberal-video",
   "metadata": {
    "execution": {
     "iopub.execute_input": "2021-06-04T12:21:18.811867Z",
     "iopub.status.busy": "2021-06-04T12:21:18.811151Z",
     "iopub.status.idle": "2021-06-04T12:21:19.041996Z",
     "shell.execute_reply": "2021-06-04T12:21:19.042502Z",
     "shell.execute_reply.started": "2021-06-04T12:18:56.190352Z"
    },
    "papermill": {
     "duration": 0.272993,
     "end_time": "2021-06-04T12:21:19.042676",
     "exception": false,
     "start_time": "2021-06-04T12:21:18.769683",
     "status": "completed"
    },
    "tags": []
   },
   "outputs": [
    {
     "data": {
      "text/plain": [
       "<AxesSubplot:>"
      ]
     },
     "execution_count": 9,
     "metadata": {},
     "output_type": "execute_result"
    },
    {
     "data": {
      "image/png": "[encoded data removed]",
      "text/plain": [
       "<Figure size 432x288 with 1 Axes>"
      ]
     },
     "metadata": {
      "needs_background": "light"
     },
     "output_type": "display_data"
    }
   ],
   "source": [
    "# Adjusting for Skewness\n",
    "# train[\"SalePrice\"] = np.log1p(train[\"SalePrice\"])\n",
    "train[\"SalePrice\"] = train[\"SalePrice\"]\n",
    "y_train = train['SalePrice'].reset_index(drop=True)\n",
    "\n",
    "train['SalePrice'].hist(bins = 40)"
   ]
  },
  {
   "cell_type": "code",
   "execution_count": 10,
   "id": "involved-border",
   "metadata": {
    "execution": {
     "iopub.execute_input": "2021-06-04T12:21:19.125356Z",
     "iopub.status.busy": "2021-06-04T12:21:19.124571Z",
     "iopub.status.idle": "2021-06-04T12:21:19.150087Z",
     "shell.execute_reply": "2021-06-04T12:21:19.150629Z",
     "shell.execute_reply.started": "2021-06-04T12:18:56.403768Z"
    },
    "papermill": {
     "duration": 0.068231,
     "end_time": "2021-06-04T12:21:19.150811",
     "exception": false,
     "start_time": "2021-06-04T12:21:19.082580",
     "status": "completed"
    },
    "tags": []
   },
   "outputs": [],
   "source": [
    "# Concat Testing part of both Train and Test and split SalePrice from Train data for Training\n",
    "train_data = train.drop(['SalePrice'], axis=1)\n",
    "total_data = pd.concat([train_data, test]).reset_index(drop=True)"
   ]
  },
  {
   "cell_type": "code",
   "execution_count": 11,
   "id": "superior-nature",
   "metadata": {
    "execution": {
     "iopub.execute_input": "2021-06-04T12:21:19.232462Z",
     "iopub.status.busy": "2021-06-04T12:21:19.231826Z",
     "iopub.status.idle": "2021-06-04T12:21:19.237072Z",
     "shell.execute_reply": "2021-06-04T12:21:19.237585Z",
     "shell.execute_reply.started": "2021-06-04T12:18:56.430598Z"
    },
    "papermill": {
     "duration": 0.04781,
     "end_time": "2021-06-04T12:21:19.237755",
     "exception": false,
     "start_time": "2021-06-04T12:21:19.189945",
     "status": "completed"
    },
    "tags": []
   },
   "outputs": [
    {
     "data": {
      "text/plain": [
       "(2917, 79)"
      ]
     },
     "execution_count": 11,
     "metadata": {},
     "output_type": "execute_result"
    }
   ],
   "source": [
    "# Total data is full data to be used for EDA\n",
    "total_data.shape"
   ]
  },
  {
   "cell_type": "code",
   "execution_count": 12,
   "id": "unlikely-singing",
   "metadata": {
    "execution": {
     "iopub.execute_input": "2021-06-04T12:21:19.320898Z",
     "iopub.status.busy": "2021-06-04T12:21:19.320248Z",
     "iopub.status.idle": "2021-06-04T12:21:19.341427Z",
     "shell.execute_reply": "2021-06-04T12:21:19.340755Z",
     "shell.execute_reply.started": "2021-06-04T12:18:56.439420Z"
    },
    "papermill": {
     "duration": 0.064059,
     "end_time": "2021-06-04T12:21:19.341593",
     "exception": false,
     "start_time": "2021-06-04T12:21:19.277534",
     "status": "completed"
    },
    "tags": []
   },
   "outputs": [
    {
     "name": "stdout",
     "output_type": "stream",
     "text": [
      "columns containing missing values = 34\n"
     ]
    }
   ],
   "source": [
    "print('columns containing missing values =',total_data.isnull().any().sum())"
   ]
  },
  {
   "cell_type": "code",
   "execution_count": 13,
   "id": "honey-hazard",
   "metadata": {
    "execution": {
     "iopub.execute_input": "2021-06-04T12:21:19.441766Z",
     "iopub.status.busy": "2021-06-04T12:21:19.441073Z",
     "iopub.status.idle": "2021-06-04T12:21:20.049157Z",
     "shell.execute_reply": "2021-06-04T12:21:20.048634Z",
     "shell.execute_reply.started": "2021-06-04T12:18:56.467360Z"
    },
    "papermill": {
     "duration": 0.666971,
     "end_time": "2021-06-04T12:21:20.049305",
     "exception": false,
     "start_time": "2021-06-04T12:21:19.382334",
     "status": "completed"
    },
    "tags": []
   },
   "outputs": [
    {
     "name": "stdout",
     "output_type": "stream",
     "text": [
      "                 0\n",
      "PoolQC        2908\n",
      "MiscFeature   2812\n",
      "Alley         2719\n",
      "Fence         2346\n",
      "FireplaceQu   1420\n",
      "LotFrontage    486\n",
      "GarageYrBlt    159\n",
      "GarageFinish   159\n",
      "GarageQual     159\n",
      "GarageCond     159\n",
      "GarageType     157\n",
      "BsmtExposure    82\n",
      "BsmtCond        82\n",
      "BsmtQual        81\n",
      "BsmtFinType2    80\n",
      "BsmtFinType1    79\n",
      "MasVnrType      24\n",
      "MasVnrArea      23\n",
      "MSZoning         4\n",
      "Functional       2\n",
      "BsmtHalfBath     2\n",
      "BsmtFullBath     2\n",
      "Utilities        2\n",
      "SaleType         1\n",
      "BsmtFinSF1       1\n",
      "KitchenQual      1\n",
      "GarageCars       1\n",
      "BsmtUnfSF        1\n",
      "TotalBsmtSF      1\n",
      "Exterior2nd      1\n",
      "Exterior1st      1\n",
      "GarageArea       1\n",
      "Electrical       1\n",
      "BsmtFinSF2       1\n"
     ]
    },
    {
     "data": {
      "image/png": "[encoded data removed]",
      "text/plain": [
       "<Figure size 1440x720 with 1 Axes>"
      ]
     },
     "metadata": {
      "needs_background": "light"
     },
     "output_type": "display_data"
    }
   ],
   "source": [
    "# Finding missing values to plot a Graph\n",
    "missing_counts = pd.DataFrame(total_data.isnull().sum().sort_values(ascending=False))\n",
    "missing_columns = missing_counts[missing_counts.iloc[:,0]>0]\n",
    "# Plotting Missing Values\n",
    "plt.figure(figsize=(20,10))\n",
    "missing_columns = missing_counts[missing_counts.iloc[:,0]>0]\n",
    "sns.barplot(x=missing_columns.index,y=missing_columns.iloc[:,0])\n",
    "plt.xticks(rotation=90)\n",
    "print(missing_columns)\n",
    "plt.show()"
   ]
  },
  {
   "cell_type": "code",
   "execution_count": 14,
   "id": "detected-solid",
   "metadata": {
    "execution": {
     "iopub.execute_input": "2021-06-04T12:21:20.149668Z",
     "iopub.status.busy": "2021-06-04T12:21:20.142646Z",
     "iopub.status.idle": "2021-06-04T12:21:20.166939Z",
     "shell.execute_reply": "2021-06-04T12:21:20.166256Z",
     "shell.execute_reply.started": "2021-06-04T12:18:56.948656Z"
    },
    "papermill": {
     "duration": 0.074351,
     "end_time": "2021-06-04T12:21:20.167099",
     "exception": false,
     "start_time": "2021-06-04T12:21:20.092748",
     "status": "completed"
    },
    "tags": []
   },
   "outputs": [],
   "source": [
    "# Some of the non-numeric predictors are stored as numbers; we convert them into strings \n",
    "total_data['MSSubClass'] = total_data['MSSubClass'].apply(str)\n",
    "total_data['YrSold'] = total_data['YrSold'].astype(str)\n",
    "total_data['MoSold'] = total_data['MoSold'].astype(str)\n",
    "\n",
    "# Fixing columns : filling Null values with suitable values in columns\n",
    "total_data['Functional'] = total_data['Functional'].fillna('Typ')\n",
    "total_data['Electrical'] = total_data['Electrical'].fillna(\"SBrkr\")\n",
    "total_data['KitchenQual'] = total_data['KitchenQual'].fillna(\"TA\")\n",
    "total_data['Exterior1st'] = total_data['Exterior1st'].fillna(total_data['Exterior1st'].mode()[0])\n",
    "total_data['Exterior2nd'] = total_data['Exterior2nd'].fillna(total_data['Exterior2nd'].mode()[0])\n",
    "total_data['SaleType'] = total_data['SaleType'].fillna(total_data['SaleType'].mode()[0])\n",
    "total_data[\"PoolQC\"] = total_data[\"PoolQC\"].fillna(\"None\")"
   ]
  },
  {
   "cell_type": "code",
   "execution_count": 15,
   "id": "dangerous-insertion",
   "metadata": {
    "execution": {
     "iopub.execute_input": "2021-06-04T12:21:20.256895Z",
     "iopub.status.busy": "2021-06-04T12:21:20.255955Z",
     "iopub.status.idle": "2021-06-04T12:21:20.262530Z",
     "shell.execute_reply": "2021-06-04T12:21:20.263022Z",
     "shell.execute_reply.started": "2021-06-04T12:18:56.979511Z"
    },
    "papermill": {
     "duration": 0.054248,
     "end_time": "2021-06-04T12:21:20.263188",
     "exception": false,
     "start_time": "2021-06-04T12:21:20.208940",
     "status": "completed"
    },
    "tags": []
   },
   "outputs": [],
   "source": [
    "# Filling columns with Mode and Median values\n",
    "total_data[\"LotFrontage\"].fillna(total_data[\"LotFrontage\"].median(),inplace=True)\n",
    "total_data[\"MSZoning\"].fillna(total_data[\"MSZoning\"].mode(),inplace=True)"
   ]
  },
  {
   "cell_type": "code",
   "execution_count": 16,
   "id": "historical-creativity",
   "metadata": {
    "execution": {
     "iopub.execute_input": "2021-06-04T12:21:20.350608Z",
     "iopub.status.busy": "2021-06-04T12:21:20.349588Z",
     "iopub.status.idle": "2021-06-04T12:21:20.362123Z",
     "shell.execute_reply": "2021-06-04T12:21:20.362696Z",
     "shell.execute_reply.started": "2021-06-04T12:18:56.999051Z"
    },
    "papermill": {
     "duration": 0.057983,
     "end_time": "2021-06-04T12:21:20.362877",
     "exception": false,
     "start_time": "2021-06-04T12:21:20.304894",
     "status": "completed"
    },
    "tags": []
   },
   "outputs": [],
   "source": [
    "# Filling some columns Nan values with 0's\n",
    "\n",
    "for item in ('GarageYrBlt', 'GarageArea', 'GarageCars'):\n",
    "    total_data[item] = total_data[item].fillna(0)\n",
    "\n",
    "# Filling categorial columns Nan Values with 'None'\n",
    "\n",
    "for item in ['GarageType', 'GarageFinish', 'GarageQual', 'GarageCond','BsmtQual', 'BsmtCond', 'BsmtExposure', 'BsmtFinType1', 'BsmtFinType2']:\n",
    "    total_data[item] = total_data[item].fillna('None')"
   ]
  },
  {
   "cell_type": "code",
   "execution_count": 17,
   "id": "excess-showcase",
   "metadata": {
    "execution": {
     "iopub.execute_input": "2021-06-04T12:21:20.450447Z",
     "iopub.status.busy": "2021-06-04T12:21:20.449522Z",
     "iopub.status.idle": "2021-06-04T12:21:20.519616Z",
     "shell.execute_reply": "2021-06-04T12:21:20.520215Z",
     "shell.execute_reply.started": "2021-06-04T12:18:57.018345Z"
    },
    "papermill": {
     "duration": 0.115412,
     "end_time": "2021-06-04T12:21:20.520396",
     "exception": false,
     "start_time": "2021-06-04T12:21:20.404984",
     "status": "completed"
    },
    "tags": []
   },
   "outputs": [],
   "source": [
    "# Filling remaining Object type columns Nan values with None\n",
    "objects = []\n",
    "for i in total_data.columns:\n",
    "    if total_data[i].dtype == object:\n",
    "        objects.append(i)\n",
    "total_data.update(total_data[objects].fillna('None'))"
   ]
  },
  {
   "cell_type": "code",
   "execution_count": 18,
   "id": "contained-backing",
   "metadata": {
    "execution": {
     "iopub.execute_input": "2021-06-04T12:21:20.612795Z",
     "iopub.status.busy": "2021-06-04T12:21:20.611829Z",
     "iopub.status.idle": "2021-06-04T12:21:20.895900Z",
     "shell.execute_reply": "2021-06-04T12:21:20.895179Z",
     "shell.execute_reply.started": "2021-06-04T12:18:57.084416Z"
    },
    "papermill": {
     "duration": 0.331027,
     "end_time": "2021-06-04T12:21:20.896080",
     "exception": false,
     "start_time": "2021-06-04T12:21:20.565053",
     "status": "completed"
    },
    "tags": []
   },
   "outputs": [],
   "source": [
    "# Filling remaining Numerical type columns with 0 values\n",
    "numerical = total_data.select_dtypes(include=np.number).columns.tolist()\n",
    "for i in numerical:\n",
    "    total_data.update(total_data[i].fillna(0))"
   ]
  },
  {
   "cell_type": "markdown",
   "id": "further-plate",
   "metadata": {
    "papermill": {
     "duration": 0.042757,
     "end_time": "2021-06-04T12:21:20.980367",
     "exception": false,
     "start_time": "2021-06-04T12:21:20.937610",
     "status": "completed"
    },
    "tags": []
   },
   "source": [
    "Data Engineering"
   ]
  },
  {
   "cell_type": "code",
   "execution_count": 19,
   "id": "liked-estimate",
   "metadata": {
    "execution": {
     "iopub.execute_input": "2021-06-04T12:21:21.071607Z",
     "iopub.status.busy": "2021-06-04T12:21:21.069708Z",
     "iopub.status.idle": "2021-06-04T12:21:21.074955Z",
     "shell.execute_reply": "2021-06-04T12:21:21.074418Z",
     "shell.execute_reply.started": "2021-06-04T12:18:57.377310Z"
    },
    "papermill": {
     "duration": 0.052144,
     "end_time": "2021-06-04T12:21:21.075098",
     "exception": false,
     "start_time": "2021-06-04T12:21:21.022954",
     "status": "completed"
    },
    "tags": []
   },
   "outputs": [],
   "source": [
    "# Dropping unwanted columns\n",
    "total_data = total_data.drop(['Utilities', 'Street', 'PoolQC',], axis=1)"
   ]
  },
  {
   "cell_type": "code",
   "execution_count": 20,
   "id": "pressed-acceptance",
   "metadata": {
    "execution": {
     "iopub.execute_input": "2021-06-04T12:21:21.174350Z",
     "iopub.status.busy": "2021-06-04T12:21:21.173678Z",
     "iopub.status.idle": "2021-06-04T12:21:21.176792Z",
     "shell.execute_reply": "2021-06-04T12:21:21.176264Z",
     "shell.execute_reply.started": "2021-06-04T12:18:57.387396Z"
    },
    "papermill": {
     "duration": 0.059541,
     "end_time": "2021-06-04T12:21:21.176935",
     "exception": false,
     "start_time": "2021-06-04T12:21:21.117394",
     "status": "completed"
    },
    "tags": []
   },
   "outputs": [],
   "source": [
    "# Engineered new columns \n",
    "total_data['YrBltAndRemod']=total_data['YearBuilt']+total_data['YearRemodAdd']\n",
    "total_data['TotalSF']=total_data['TotalBsmtSF'] + total_data['1stFlrSF'] + total_data['2ndFlrSF']\n",
    "\n",
    "total_data['Total_sqr_footage'] = (total_data['BsmtFinSF1'] + total_data['BsmtFinSF2'] +\n",
    "                                 total_data['1stFlrSF'] + total_data['2ndFlrSF'])\n",
    "\n",
    "total_data['Total_Bathrooms'] = (total_data['FullBath'] + (0.5 * total_data['HalfBath']) +\n",
    "                               total_data['BsmtFullBath'] + (0.5 * total_data['BsmtHalfBath']))\n",
    "\n",
    "total_data['Total_porch_sf'] = (total_data['OpenPorchSF'] + total_data['3SsnPorch'] +\n",
    "                              total_data['EnclosedPorch'] + total_data['ScreenPorch'] +\n",
    "                              total_data['WoodDeckSF'])"
   ]
  },
  {
   "cell_type": "code",
   "execution_count": 21,
   "id": "tired-opera",
   "metadata": {
    "execution": {
     "iopub.execute_input": "2021-06-04T12:21:21.282586Z",
     "iopub.status.busy": "2021-06-04T12:21:21.281885Z",
     "iopub.status.idle": "2021-06-04T12:21:21.285316Z",
     "shell.execute_reply": "2021-06-04T12:21:21.284809Z",
     "shell.execute_reply.started": "2021-06-04T12:18:57.407969Z"
    },
    "papermill": {
     "duration": 0.066343,
     "end_time": "2021-06-04T12:21:21.285460",
     "exception": false,
     "start_time": "2021-06-04T12:21:21.219117",
     "status": "completed"
    },
    "tags": []
   },
   "outputs": [],
   "source": [
    "# Simplifying Features\n",
    "total_data['haspool'] = total_data['PoolArea'].apply(lambda x: 1 if x > 0 else 0)\n",
    "total_data['has2ndfloor'] = total_data['2ndFlrSF'].apply(lambda x: 1 if x > 0 else 0)\n",
    "total_data['hasgarage'] = total_data['GarageArea'].apply(lambda x: 1 if x > 0 else 0)\n",
    "total_data['hasbsmt'] = total_data['TotalBsmtSF'].apply(lambda x: 1 if x > 0 else 0)\n",
    "total_data['hasfireplace'] = total_data['Fireplaces'].apply(lambda x: 1 if x > 0 else 0)"
   ]
  },
  {
   "cell_type": "code",
   "execution_count": 22,
   "id": "legendary-price",
   "metadata": {
    "execution": {
     "iopub.execute_input": "2021-06-04T12:21:21.376468Z",
     "iopub.status.busy": "2021-06-04T12:21:21.375812Z",
     "iopub.status.idle": "2021-06-04T12:21:21.430922Z",
     "shell.execute_reply": "2021-06-04T12:21:21.430355Z",
     "shell.execute_reply.started": "2021-06-04T12:18:57.438341Z"
    },
    "papermill": {
     "duration": 0.104149,
     "end_time": "2021-06-04T12:21:21.431063",
     "exception": false,
     "start_time": "2021-06-04T12:21:21.326914",
     "status": "completed"
    },
    "tags": []
   },
   "outputs": [
    {
     "name": "stdout",
     "output_type": "stream",
     "text": [
      "(2917, 86)\n",
      "(2917, 334)\n"
     ]
    }
   ],
   "source": [
    "# Adding pandas dummy values to encode features\n",
    "print(total_data.shape)\n",
    "final_data = pd.get_dummies(total_data).reset_index(drop=True)\n",
    "print(final_data.shape)"
   ]
  },
  {
   "cell_type": "code",
   "execution_count": 23,
   "id": "false-pharmaceutical",
   "metadata": {
    "execution": {
     "iopub.execute_input": "2021-06-04T12:21:21.522825Z",
     "iopub.status.busy": "2021-06-04T12:21:21.521918Z",
     "iopub.status.idle": "2021-06-04T12:21:21.526228Z",
     "shell.execute_reply": "2021-06-04T12:21:21.526967Z",
     "shell.execute_reply.started": "2021-06-04T12:18:57.503396Z"
    },
    "papermill": {
     "duration": 0.053775,
     "end_time": "2021-06-04T12:21:21.527189",
     "exception": false,
     "start_time": "2021-06-04T12:21:21.473414",
     "status": "completed"
    },
    "tags": []
   },
   "outputs": [
    {
     "name": "stdout",
     "output_type": "stream",
     "text": [
      "x_train (1458, 334)\n",
      "y_train (1458,)\n",
      "x_test (1459, 334)\n"
     ]
    }
   ],
   "source": [
    "# Splitting Train and test values now with help of variable 'y' \n",
    "x_train = final_data.iloc[:len(y_train), :]\n",
    "x_test = final_data.iloc[len(x_train):, :]\n",
    "\n",
    "print('x_train', x_train.shape)\n",
    "print('y_train', y_train.shape)\n",
    "print('x_test', x_test.shape)"
   ]
  },
  {
   "cell_type": "code",
   "execution_count": 24,
   "id": "stainless-athens",
   "metadata": {
    "execution": {
     "iopub.execute_input": "2021-06-04T12:21:21.621223Z",
     "iopub.status.busy": "2021-06-04T12:21:21.620165Z",
     "iopub.status.idle": "2021-06-04T12:21:21.788385Z",
     "shell.execute_reply": "2021-06-04T12:21:21.787701Z",
     "shell.execute_reply.started": "2021-06-04T12:18:57.512667Z"
    },
    "papermill": {
     "duration": 0.218181,
     "end_time": "2021-06-04T12:21:21.788551",
     "exception": false,
     "start_time": "2021-06-04T12:21:21.570370",
     "status": "completed"
    },
    "tags": []
   },
   "outputs": [
    {
     "name": "stdout",
     "output_type": "stream",
     "text": [
      "X_train (1458, 331)\n",
      "Y_train (1458,)\n",
      "X_test (1459, 331)\n"
     ]
    }
   ],
   "source": [
    "# Removing Overfitting features\n",
    "overfit = []\n",
    "for i in x_train.columns:\n",
    "    counts = x_train[i].value_counts()\n",
    "    zeros = counts.iloc[0]\n",
    "    if zeros / len(x_train) * 100 > 99.94:\n",
    "        overfit.append(i)\n",
    "\n",
    "overfit = list(overfit)\n",
    "# MSZoning_C have an extra field added in data \n",
    "overfit.append('MSZoning_C (all)')\n",
    "\n",
    "X_train = x_train.drop(overfit, axis=1).copy()\n",
    "X_test = x_test.drop(overfit, axis=1).copy()\n",
    "Y_train = y_train.copy()\n",
    "\n",
    "print('X_train', X_train.shape)\n",
    "print('Y_train', Y_train.shape)\n",
    "print('X_test', X_test.shape)"
   ]
  },
  {
   "cell_type": "markdown",
   "id": "considerable-concept",
   "metadata": {
    "papermill": {
     "duration": 0.042554,
     "end_time": "2021-06-04T12:21:21.873773",
     "exception": false,
     "start_time": "2021-06-04T12:21:21.831219",
     "status": "completed"
    },
    "tags": []
   },
   "source": [
    "Trying a Neural network model on above"
   ]
  },
  {
   "cell_type": "code",
   "execution_count": 25,
   "id": "received-subdivision",
   "metadata": {
    "execution": {
     "iopub.execute_input": "2021-06-04T12:21:21.966328Z",
     "iopub.status.busy": "2021-06-04T12:21:21.965688Z",
     "iopub.status.idle": "2021-06-04T12:21:21.974637Z",
     "shell.execute_reply": "2021-06-04T12:21:21.975124Z",
     "shell.execute_reply.started": "2021-06-04T12:18:57.684676Z"
    },
    "papermill": {
     "duration": 0.058787,
     "end_time": "2021-06-04T12:21:21.975302",
     "exception": false,
     "start_time": "2021-06-04T12:21:21.916515",
     "status": "completed"
    },
    "tags": []
   },
   "outputs": [
    {
     "name": "stdout",
     "output_type": "stream",
     "text": [
      "x_train1 (1166, 331)\n",
      "y_train1 (1166,)\n",
      "x_test1 (292, 331)\n",
      "y_test1 (292,)\n"
     ]
    }
   ],
   "source": [
    "from sklearn.model_selection import train_test_split\n",
    "x_train1,x_test1,y_train1,y_test1=train_test_split(X_train,Y_train,test_size=.20,random_state=40)\n",
    "print('x_train1', x_train1.shape)\n",
    "print('y_train1', y_train1.shape)\n",
    "print('x_test1', x_test1.shape)\n",
    "print('y_test1', y_test1.shape)"
   ]
  },
  {
   "cell_type": "code",
   "execution_count": 26,
   "id": "confirmed-tsunami",
   "metadata": {
    "execution": {
     "iopub.execute_input": "2021-06-04T12:21:22.064347Z",
     "iopub.status.busy": "2021-06-04T12:21:22.063734Z",
     "iopub.status.idle": "2021-06-04T12:21:22.067403Z",
     "shell.execute_reply": "2021-06-04T12:21:22.067940Z",
     "shell.execute_reply.started": "2021-06-04T12:18:57.702753Z"
    },
    "papermill": {
     "duration": 0.050105,
     "end_time": "2021-06-04T12:21:22.068106",
     "exception": false,
     "start_time": "2021-06-04T12:21:22.018001",
     "status": "completed"
    },
    "tags": []
   },
   "outputs": [],
   "source": [
    "# Learning rate\n",
    "learning_rate = 0.1\n",
    "\n",
    "# Epoch  \n",
    "epochs = 400\n",
    "\n",
    "# Batch size\n",
    "batch_size = 5"
   ]
  },
  {
   "cell_type": "code",
   "execution_count": 27,
   "id": "adaptive-minimum",
   "metadata": {
    "execution": {
     "iopub.execute_input": "2021-06-04T12:21:22.160357Z",
     "iopub.status.busy": "2021-06-04T12:21:22.159442Z",
     "iopub.status.idle": "2021-06-04T12:21:28.499050Z",
     "shell.execute_reply": "2021-06-04T12:21:28.498313Z",
     "shell.execute_reply.started": "2021-06-04T12:18:57.709556Z"
    },
    "papermill": {
     "duration": 6.388133,
     "end_time": "2021-06-04T12:21:28.499201",
     "exception": false,
     "start_time": "2021-06-04T12:21:22.111068",
     "status": "completed"
    },
    "tags": []
   },
   "outputs": [],
   "source": [
    "# Sequential Model\n",
    "from keras.models import Sequential\n",
    "from keras.layers import Dense\n",
    "\n",
    "model = Sequential()\n",
    "model.add(Dense(118, activation='relu', kernel_initializer='normal', input_dim = 331))\n",
    "model.add(Dense(59, activation='relu'))\n",
    "model.add(Dense(1, kernel_initializer='normal'))"
   ]
  },
  {
   "cell_type": "code",
   "execution_count": 28,
   "id": "cultural-district",
   "metadata": {
    "execution": {
     "iopub.execute_input": "2021-06-04T12:21:28.597231Z",
     "iopub.status.busy": "2021-06-04T12:21:28.591294Z",
     "iopub.status.idle": "2021-06-04T12:21:28.607561Z",
     "shell.execute_reply": "2021-06-04T12:21:28.606890Z",
     "shell.execute_reply.started": "2021-06-04T12:18:57.746562Z"
    },
    "papermill": {
     "duration": 0.06463,
     "end_time": "2021-06-04T12:21:28.607711",
     "exception": false,
     "start_time": "2021-06-04T12:21:28.543081",
     "status": "completed"
    },
    "tags": []
   },
   "outputs": [],
   "source": [
    "# Complie the model\n",
    "\n",
    "model.compile(loss='mean_squared_error', optimizer = 'adam')"
   ]
  },
  {
   "cell_type": "code",
   "execution_count": 29,
   "id": "great-reducing",
   "metadata": {
    "execution": {
     "iopub.execute_input": "2021-06-04T12:21:28.700173Z",
     "iopub.status.busy": "2021-06-04T12:21:28.699286Z",
     "iopub.status.idle": "2021-06-04T12:21:28.706078Z",
     "shell.execute_reply": "2021-06-04T12:21:28.705124Z",
     "shell.execute_reply.started": "2021-06-04T12:18:57.760504Z"
    },
    "papermill": {
     "duration": 0.055746,
     "end_time": "2021-06-04T12:21:28.706278",
     "exception": false,
     "start_time": "2021-06-04T12:21:28.650532",
     "status": "completed"
    },
    "tags": []
   },
   "outputs": [
    {
     "name": "stdout",
     "output_type": "stream",
     "text": [
      "Model: \"sequential\"\n",
      "_________________________________________________________________\n",
      "Layer (type)                 Output Shape              Param #   \n",
      "=================================================================\n",
      "dense (Dense)                (None, 118)               39176     \n",
      "_________________________________________________________________\n",
      "dense_1 (Dense)              (None, 59)                7021      \n",
      "_________________________________________________________________\n",
      "dense_2 (Dense)              (None, 1)                 60        \n",
      "=================================================================\n",
      "Total params: 46,257\n",
      "Trainable params: 46,257\n",
      "Non-trainable params: 0\n",
      "_________________________________________________________________\n"
     ]
    }
   ],
   "source": [
    "# Model summary \n",
    "model.summary()"
   ]
  },
  {
   "cell_type": "code",
   "execution_count": 30,
   "id": "grave-norway",
   "metadata": {
    "execution": {
     "iopub.execute_input": "2021-06-04T12:21:28.800533Z",
     "iopub.status.busy": "2021-06-04T12:21:28.799821Z",
     "iopub.status.idle": "2021-06-04T12:23:14.798023Z",
     "shell.execute_reply": "2021-06-04T12:23:14.797407Z",
     "shell.execute_reply.started": "2021-06-04T12:18:57.774559Z"
    },
    "papermill": {
     "duration": 106.046548,
     "end_time": "2021-06-04T12:23:14.798191",
     "exception": false,
     "start_time": "2021-06-04T12:21:28.751643",
     "status": "completed"
    },
    "tags": []
   },
   "outputs": [],
   "source": [
    "# Model Training\n",
    "\n",
    "history = model.fit(\n",
    "    x_train1,\n",
    "    y_train1,\n",
    "    batch_size=batch_size,\n",
    "    epochs=epochs,\n",
    "    verbose = 0\n",
    ")"
   ]
  },
  {
   "cell_type": "code",
   "execution_count": 31,
   "id": "arbitrary-throat",
   "metadata": {
    "execution": {
     "iopub.execute_input": "2021-06-04T12:23:14.892368Z",
     "iopub.status.busy": "2021-06-04T12:23:14.891724Z",
     "iopub.status.idle": "2021-06-04T12:23:15.034346Z",
     "shell.execute_reply": "2021-06-04T12:23:15.035077Z",
     "shell.execute_reply.started": "2021-06-04T12:20:27.392283Z"
    },
    "papermill": {
     "duration": 0.192667,
     "end_time": "2021-06-04T12:23:15.035246",
     "exception": false,
     "start_time": "2021-06-04T12:23:14.842579",
     "status": "completed"
    },
    "tags": []
   },
   "outputs": [
    {
     "name": "stdout",
     "output_type": "stream",
     "text": [
      "26155.01162526931\n"
     ]
    }
   ],
   "source": [
    "# Prediction on train and test data \n",
    "from sklearn.metrics import mean_squared_error\n",
    "\n",
    "# pred_test= np.expm1(model.predict(x_test1))\n",
    "pred_test= model.predict(x_test1)\n",
    "\n",
    "# Printing RMSE with on val data\n",
    "print(np.sqrt(mean_squared_error(y_test1,pred_test))) "
   ]
  },
  {
   "cell_type": "code",
   "execution_count": 32,
   "id": "distinguished-adjustment",
   "metadata": {
    "execution": {
     "iopub.execute_input": "2021-06-04T12:23:15.126548Z",
     "iopub.status.busy": "2021-06-04T12:23:15.125567Z",
     "iopub.status.idle": "2021-06-04T12:23:15.129839Z",
     "shell.execute_reply": "2021-06-04T12:23:15.130279Z",
     "shell.execute_reply.started": "2021-06-04T12:20:27.487223Z"
    },
    "papermill": {
     "duration": 0.051596,
     "end_time": "2021-06-04T12:23:15.130448",
     "exception": false,
     "start_time": "2021-06-04T12:23:15.078852",
     "status": "completed"
    },
    "tags": []
   },
   "outputs": [],
   "source": [
    "# pred_test"
   ]
  },
  {
   "cell_type": "code",
   "execution_count": 33,
   "id": "industrial-exclusive",
   "metadata": {
    "execution": {
     "iopub.execute_input": "2021-06-04T12:23:15.224277Z",
     "iopub.status.busy": "2021-06-04T12:23:15.223402Z",
     "iopub.status.idle": "2021-06-04T12:23:15.227063Z",
     "shell.execute_reply": "2021-06-04T12:23:15.227497Z",
     "shell.execute_reply.started": "2021-06-04T12:20:27.492309Z"
    },
    "papermill": {
     "duration": 0.054195,
     "end_time": "2021-06-04T12:23:15.227661",
     "exception": false,
     "start_time": "2021-06-04T12:23:15.173466",
     "status": "completed"
    },
    "tags": []
   },
   "outputs": [
    {
     "data": {
      "text/plain": [
       "0.8691635803354488"
      ]
     },
     "execution_count": 33,
     "metadata": {},
     "output_type": "execute_result"
    }
   ],
   "source": [
    "# R square score for the model\n",
    "from sklearn.metrics import r2_score\n",
    "r_square = r2_score(y_test1, pred_test)\n",
    "r_square"
   ]
  },
  {
   "cell_type": "code",
   "execution_count": 34,
   "id": "indian-bikini",
   "metadata": {
    "execution": {
     "iopub.execute_input": "2021-06-04T12:23:15.319262Z",
     "iopub.status.busy": "2021-06-04T12:23:15.318648Z",
     "iopub.status.idle": "2021-06-04T12:23:15.428254Z",
     "shell.execute_reply": "2021-06-04T12:23:15.427617Z",
     "shell.execute_reply.started": "2021-06-04T12:20:27.507739Z"
    },
    "papermill": {
     "duration": 0.157346,
     "end_time": "2021-06-04T12:23:15.428399",
     "exception": false,
     "start_time": "2021-06-04T12:23:15.271053",
     "status": "completed"
    },
    "tags": []
   },
   "outputs": [],
   "source": [
    "#here we predict SalePrice using NN Model\n",
    "submission = pd.read_csv(\"../input/house-prices-advanced-regression-techniques/sample_submission.csv\")\n",
    "# submission.iloc[:,1] = (np.expm1(model.predict(X_test)))\n",
    "submission.iloc[:,1] = model.predict(X_test)"
   ]
  },
  {
   "cell_type": "code",
   "execution_count": 35,
   "id": "municipal-wellington",
   "metadata": {
    "execution": {
     "iopub.execute_input": "2021-06-04T12:23:15.524289Z",
     "iopub.status.busy": "2021-06-04T12:23:15.523564Z",
     "iopub.status.idle": "2021-06-04T12:23:15.527784Z",
     "shell.execute_reply": "2021-06-04T12:23:15.527197Z",
     "shell.execute_reply.started": "2021-06-04T12:20:27.611938Z"
    },
    "papermill": {
     "duration": 0.056018,
     "end_time": "2021-06-04T12:23:15.527924",
     "exception": false,
     "start_time": "2021-06-04T12:23:15.471906",
     "status": "completed"
    },
    "tags": []
   },
   "outputs": [
    {
     "data": {
      "text/html": [
       "<div>\n",
       "<style scoped>\n",
       "    .dataframe tbody tr th:only-of-type {\n",
       "        vertical-align: middle;\n",
       "    }\n",
       "\n",
       "    .dataframe tbody tr th {\n",
       "        vertical-align: top;\n",
       "    }\n",
       "\n",
       "    .dataframe thead th {\n",
       "        text-align: right;\n",
       "    }\n",
       "</style>\n",
       "<table border=\"1\" class=\"dataframe\">\n",
       "  <thead>\n",
       "    <tr style=\"text-align: right;\">\n",
       "      <th></th>\n",
       "      <th>Id</th>\n",
       "      <th>SalePrice</th>\n",
       "    </tr>\n",
       "  </thead>\n",
       "  <tbody>\n",
       "    <tr>\n",
       "      <th>0</th>\n",
       "      <td>1461</td>\n",
       "      <td>111946.617188</td>\n",
       "    </tr>\n",
       "    <tr>\n",
       "      <th>1</th>\n",
       "      <td>1462</td>\n",
       "      <td>164133.453125</td>\n",
       "    </tr>\n",
       "    <tr>\n",
       "      <th>2</th>\n",
       "      <td>1463</td>\n",
       "      <td>176509.562500</td>\n",
       "    </tr>\n",
       "    <tr>\n",
       "      <th>3</th>\n",
       "      <td>1464</td>\n",
       "      <td>185557.390625</td>\n",
       "    </tr>\n",
       "    <tr>\n",
       "      <th>4</th>\n",
       "      <td>1465</td>\n",
       "      <td>176173.546875</td>\n",
       "    </tr>\n",
       "  </tbody>\n",
       "</table>\n",
       "</div>"
      ],
      "text/plain": [
       "     Id      SalePrice\n",
       "0  1461  111946.617188\n",
       "1  1462  164133.453125\n",
       "2  1463  176509.562500\n",
       "3  1464  185557.390625\n",
       "4  1465  176173.546875"
      ]
     },
     "execution_count": 35,
     "metadata": {},
     "output_type": "execute_result"
    }
   ],
   "source": [
    "# Output\n",
    "submission.head()"
   ]
  },
  {
   "cell_type": "code",
   "execution_count": 36,
   "id": "competitive-sellers",
   "metadata": {
    "execution": {
     "iopub.execute_input": "2021-06-04T12:23:15.620416Z",
     "iopub.status.busy": "2021-06-04T12:23:15.619775Z",
     "iopub.status.idle": "2021-06-04T12:23:15.630776Z",
     "shell.execute_reply": "2021-06-04T12:23:15.630105Z",
     "shell.execute_reply.started": "2021-06-04T12:20:27.624771Z"
    },
    "papermill": {
     "duration": 0.059158,
     "end_time": "2021-06-04T12:23:15.630923",
     "exception": false,
     "start_time": "2021-06-04T12:23:15.571765",
     "status": "completed"
    },
    "tags": []
   },
   "outputs": [],
   "source": [
    "# Submission\n",
    "submission.to_csv(\"submission.csv\", index=False)"
   ]
  },
  {
   "cell_type": "code",
   "execution_count": 37,
   "id": "ongoing-norwegian",
   "metadata": {
    "execution": {
     "iopub.execute_input": "2021-06-04T12:23:15.723772Z",
     "iopub.status.busy": "2021-06-04T12:23:15.723099Z",
     "iopub.status.idle": "2021-06-04T12:23:15.725979Z",
     "shell.execute_reply": "2021-06-04T12:23:15.725459Z",
     "shell.execute_reply.started": "2021-06-04T12:20:27.637582Z"
    },
    "papermill": {
     "duration": 0.050829,
     "end_time": "2021-06-04T12:23:15.726107",
     "exception": false,
     "start_time": "2021-06-04T12:23:15.675278",
     "status": "completed"
    },
    "tags": []
   },
   "outputs": [],
   "source": [
    "# Still have to implement XGBoost and Ensembler model - WIP"
   ]
  },
  {
   "cell_type": "code",
   "execution_count": null,
   "id": "physical-printer",
   "metadata": {
    "papermill": {
     "duration": 0.043576,
     "end_time": "2021-06-04T12:23:15.814432",
     "exception": false,
     "start_time": "2021-06-04T12:23:15.770856",
     "status": "completed"
    },
    "tags": []
   },
   "outputs": [],
   "source": []
  },
  {
   "cell_type": "code",
   "execution_count": null,
   "id": "electric-dietary",
   "metadata": {
    "papermill": {
     "duration": 0.04349,
     "end_time": "2021-06-04T12:23:15.901908",
     "exception": false,
     "start_time": "2021-06-04T12:23:15.858418",
     "status": "completed"
    },
    "tags": []
   },
   "outputs": [],
   "source": []
  },
  {
   "cell_type": "code",
   "execution_count": null,
   "id": "corresponding-fluid",
   "metadata": {
    "papermill": {
     "duration": 0.043921,
     "end_time": "2021-06-04T12:23:15.989813",
     "exception": false,
     "start_time": "2021-06-04T12:23:15.945892",
     "status": "completed"
    },
    "tags": []
   },
   "outputs": [],
   "source": []
  },
  {
   "cell_type": "code",
   "execution_count": null,
   "id": "filled-yacht",
   "metadata": {
    "papermill": {
     "duration": 0.045409,
     "end_time": "2021-06-04T12:23:16.081215",
     "exception": false,
     "start_time": "2021-06-04T12:23:16.035806",
     "status": "completed"
    },
    "tags": []
   },
   "outputs": [],
   "source": []
  },
  {
   "cell_type": "code",
   "execution_count": null,
   "id": "anticipated-brush",
   "metadata": {
    "papermill": {
     "duration": 0.04351,
     "end_time": "2021-06-04T12:23:16.169400",
     "exception": false,
     "start_time": "2021-06-04T12:23:16.125890",
     "status": "completed"
    },
    "tags": []
   },
   "outputs": [],
   "source": []
  },
  {
   "cell_type": "code",
   "execution_count": null,
   "id": "lightweight-decrease",
   "metadata": {
    "papermill": {
     "duration": 0.043538,
     "end_time": "2021-06-04T12:23:16.256817",
     "exception": false,
     "start_time": "2021-06-04T12:23:16.213279",
     "status": "completed"
    },
    "tags": []
   },
   "outputs": [],
   "source": []
  }
 ],
 "metadata": {
  "kernelspec": {
   "display_name": "Python 3",
   "language": "python",
   "name": "python3"
  },
  "language_info": {
   "codemirror_mode": {
    "name": "ipython",
    "version": 3
   },
   "file_extension": ".py",
   "mimetype": "text/x-python",
   "name": "python",
   "nbconvert_exporter": "python",
   "pygments_lexer": "ipython3",
   "version": "3.7.10"
  },
  "papermill": {
   "default_parameters": {},
   "duration": 129.997565,
   "end_time": "2021-06-04T12:23:17.754843",
   "environment_variables": {},
   "exception": null,
   "input_path": "__notebook__.ipynb",
   "output_path": "__notebook__.ipynb",
   "parameters": {},
   "start_time": "2021-06-04T12:21:07.757278",
   "version": "2.3.3"
  }
 },
 "nbformat": 4,
 "nbformat_minor": 5
}
